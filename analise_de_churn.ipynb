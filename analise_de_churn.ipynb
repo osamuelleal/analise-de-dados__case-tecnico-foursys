{
  "nbformat": 4,
  "nbformat_minor": 0,
  "metadata": {
    "colab": {
      "name": "analise-de-churn",
      "provenance": [],
      "collapsed_sections": [
        "UjGZPpyHG39F",
        "W3cJlzTXmlJ-",
        "rXtInO17bYbx",
        "moZRvCw6Wc_x",
        "XXBLX1AIwI9j",
        "ELv21t00-w_d"
      ]
    },
    "kernelspec": {
      "name": "python3",
      "display_name": "Python 3"
    },
    "language_info": {
      "name": "python"
    }
  },
  "cells": [
    {
      "cell_type": "markdown",
      "metadata": {
        "id": "Cfk0wO9XK_2a"
      },
      "source": [
        "#**Análise de Churn** em empresa de Telecom"
      ]
    },
    {
      "cell_type": "markdown",
      "metadata": {
        "id": "QJmJ4GF4QgvD"
      },
      "source": [
        "###Dicionário de dados"
      ]
    },
    {
      "cell_type": "markdown",
      "metadata": {
        "id": "KTVlCO1tQHuS"
      },
      "source": [
        "- **churn_data.csv:**\n",
        "    * customerID: O ID único de cada cliente\n",
        "    * tenure: O tempo durante o qual um cliente está usando o serviço\n",
        "    * PhoneService: Se um cliente tem um serviço de telefone fixo junto com o serviço de Internet\n",
        "    * Contract: O tipo de contrato que um cliente escolheu\n",
        "    * PaperlessBilling: Se um cliente optou por faturamento sem papel\n",
        "    * PaymentMethod: Especifica o método pelo qual as contas são pagas\n",
        "    * MonthlyCharges: Especifica o dinheiro pago por um cliente a cada mês\n",
        "    * TotalCharges: O dinheiro total pago pelo cliente à empresa\n",
        "    * Churn: Esta é a variável de destino que especifica se um cliente abandonou ou não"
      ]
    },
    {
      "cell_type": "markdown",
      "metadata": {
        "id": "Y3PHJCndQTuh"
      },
      "source": [
        "- **customer_data.csv:**\n",
        "    * customerID: O ID único de cada cliente\n",
        "    * gender: O gênero de uma pessoa\n",
        "    * SeniorCitizen: Se um cliente pode ser classificado como idoso\n",
        "    * Partner: Se um cliente for casado / em uma união de fato\n",
        "    * Dependents: Se um cliente tem dependentes (filhos / pais aposentados)"
      ]
    },
    {
      "cell_type": "markdown",
      "metadata": {
        "id": "zwdsdtFrQWWS"
      },
      "source": [
        "- **internet_data.csv:**\n",
        "    * customerID: O ID único de cada cliente\n",
        "    * MultipleLines: Se um cliente tem várias linhas de conectividade com a Internet\n",
        "    * InternetService: O tipo de serviço de Internet escolhido pelo cliente\n",
        "    * OnlineSecurity: Especifica se um cliente tem segurança online\n",
        "    * OnlineBackup: Especifica se um cliente tem backup online\n",
        "    * DeviceProtection: Especifica se um cliente optou pela proteção do dispositivo\n",
        "    * TechSupport: Se um cliente optou por suporte técnico ou não\n",
        "    * StreamingTV: Se um cliente tem a opção de streaming de TV\n",
        "    * StreamingMovies: Se um cliente tem a opção de streaming de filmes"
      ]
    },
    {
      "cell_type": "markdown",
      "metadata": {
        "id": "FG-6x5BwQjwa"
      },
      "source": [
        "##**Hipótese**\n",
        "\n",
        "No mundo acelerado e tecnológico que estamos vivendo, a depêndencia da internet se tornou algo relativamente comum. Por isso quando uma pessoa contrata um plano, a prioridade dela é sempre os benefícios de internet. Como os serviços de Telecom já entenderam essa situação, oferecem SMS e ligações gratuitas e focam em oferecer o melhor plano de conectividade como limite de gigas, largura de banda e megas de velocidade.\n",
        "\n",
        "No entanto quando se contrata um serviço em que o suporte técnico é chamado diversas vezes, a experiência do cliente torna-se frustante, pois a última coisa que ele quer é se preocupar com o funcionamento do seu plano. Fora que a fama dos suportes técnicos não é a das melhores.\n",
        "\n",
        "Através desse conjunto de dados, iremos saber se o cliente opta por cancelar o contrato quando percebe que necessita do suporte técnico em vez de uma experiência limpa e fluída."
      ]
    },
    {
      "cell_type": "markdown",
      "metadata": {
        "id": "4dCjwnWtXDUa"
      },
      "source": [
        "As features utilizadas serão:\n",
        "- **tenure**: O tempo durante o qual um cliente está usando o serviço (em meses)\n",
        "- **InternetService**: O tipo de serviço de Internet escolhido pelo cliente\n",
        "- **PaperlessBilling**: Se um cliente optou por faturamento sem papel\n",
        "- **Contract**: O tipo de contrato que o cliente escolheu\n",
        "- **TechSupport**: Se um cliente optou por suporte técnico ou não"
      ]
    },
    {
      "cell_type": "markdown",
      "metadata": {
        "id": "k8845a4u6G-2"
      },
      "source": [
        "#**Análise Exploratória de Dados**"
      ]
    },
    {
      "cell_type": "code",
      "metadata": {
        "id": "MB9YIMZ9Ilai"
      },
      "source": [
        "# importando as bibliotecas necessárias para manipular e visualizar os dados\n",
        "\n",
        "import pandas as pd\n",
        "import matplotlib.pyplot as plt\n",
        "import seaborn as sns"
      ],
      "execution_count": 1,
      "outputs": []
    },
    {
      "cell_type": "code",
      "metadata": {
        "colab": {
          "base_uri": "https://localhost:8080/",
          "height": 0
        },
        "id": "us_i7JdcI9JN",
        "outputId": "beceb712-0048-4eac-aebb-980b9f814eb0"
      },
      "source": [
        "# importando os datasets e visualizando alguns registros e features\n",
        "\n",
        "churn_data = pd.read_csv(\"/content/drive/MyDrive/churn_data.csv\")\n",
        "churn_data"
      ],
      "execution_count": 2,
      "outputs": [
        {
          "output_type": "execute_result",
          "data": {
            "text/html": [
              "<div>\n",
              "<style scoped>\n",
              "    .dataframe tbody tr th:only-of-type {\n",
              "        vertical-align: middle;\n",
              "    }\n",
              "\n",
              "    .dataframe tbody tr th {\n",
              "        vertical-align: top;\n",
              "    }\n",
              "\n",
              "    .dataframe thead th {\n",
              "        text-align: right;\n",
              "    }\n",
              "</style>\n",
              "<table border=\"1\" class=\"dataframe\">\n",
              "  <thead>\n",
              "    <tr style=\"text-align: right;\">\n",
              "      <th></th>\n",
              "      <th>customerID</th>\n",
              "      <th>tenure</th>\n",
              "      <th>PhoneService</th>\n",
              "      <th>Contract</th>\n",
              "      <th>PaperlessBilling</th>\n",
              "      <th>PaymentMethod</th>\n",
              "      <th>MonthlyCharges</th>\n",
              "      <th>TotalCharges</th>\n",
              "      <th>Churn</th>\n",
              "    </tr>\n",
              "  </thead>\n",
              "  <tbody>\n",
              "    <tr>\n",
              "      <th>0</th>\n",
              "      <td>7590-VHVEG</td>\n",
              "      <td>1</td>\n",
              "      <td>No</td>\n",
              "      <td>Month-to-month</td>\n",
              "      <td>Yes</td>\n",
              "      <td>Electronic check</td>\n",
              "      <td>29.85</td>\n",
              "      <td>29.85</td>\n",
              "      <td>No</td>\n",
              "    </tr>\n",
              "    <tr>\n",
              "      <th>1</th>\n",
              "      <td>5575-GNVDE</td>\n",
              "      <td>34</td>\n",
              "      <td>Yes</td>\n",
              "      <td>One year</td>\n",
              "      <td>No</td>\n",
              "      <td>Mailed check</td>\n",
              "      <td>56.95</td>\n",
              "      <td>1889.5</td>\n",
              "      <td>No</td>\n",
              "    </tr>\n",
              "    <tr>\n",
              "      <th>2</th>\n",
              "      <td>3668-QPYBK</td>\n",
              "      <td>2</td>\n",
              "      <td>Yes</td>\n",
              "      <td>Month-to-month</td>\n",
              "      <td>Yes</td>\n",
              "      <td>Mailed check</td>\n",
              "      <td>53.85</td>\n",
              "      <td>108.15</td>\n",
              "      <td>Yes</td>\n",
              "    </tr>\n",
              "    <tr>\n",
              "      <th>3</th>\n",
              "      <td>7795-CFOCW</td>\n",
              "      <td>45</td>\n",
              "      <td>No</td>\n",
              "      <td>One year</td>\n",
              "      <td>No</td>\n",
              "      <td>Bank transfer (automatic)</td>\n",
              "      <td>42.30</td>\n",
              "      <td>1840.75</td>\n",
              "      <td>No</td>\n",
              "    </tr>\n",
              "    <tr>\n",
              "      <th>4</th>\n",
              "      <td>9237-HQITU</td>\n",
              "      <td>2</td>\n",
              "      <td>Yes</td>\n",
              "      <td>Month-to-month</td>\n",
              "      <td>Yes</td>\n",
              "      <td>Electronic check</td>\n",
              "      <td>70.70</td>\n",
              "      <td>151.65</td>\n",
              "      <td>Yes</td>\n",
              "    </tr>\n",
              "    <tr>\n",
              "      <th>...</th>\n",
              "      <td>...</td>\n",
              "      <td>...</td>\n",
              "      <td>...</td>\n",
              "      <td>...</td>\n",
              "      <td>...</td>\n",
              "      <td>...</td>\n",
              "      <td>...</td>\n",
              "      <td>...</td>\n",
              "      <td>...</td>\n",
              "    </tr>\n",
              "    <tr>\n",
              "      <th>7038</th>\n",
              "      <td>6840-RESVB</td>\n",
              "      <td>24</td>\n",
              "      <td>Yes</td>\n",
              "      <td>One year</td>\n",
              "      <td>Yes</td>\n",
              "      <td>Mailed check</td>\n",
              "      <td>84.80</td>\n",
              "      <td>1990.5</td>\n",
              "      <td>No</td>\n",
              "    </tr>\n",
              "    <tr>\n",
              "      <th>7039</th>\n",
              "      <td>2234-XADUH</td>\n",
              "      <td>72</td>\n",
              "      <td>Yes</td>\n",
              "      <td>One year</td>\n",
              "      <td>Yes</td>\n",
              "      <td>Credit card (automatic)</td>\n",
              "      <td>103.20</td>\n",
              "      <td>7362.9</td>\n",
              "      <td>No</td>\n",
              "    </tr>\n",
              "    <tr>\n",
              "      <th>7040</th>\n",
              "      <td>4801-JZAZL</td>\n",
              "      <td>11</td>\n",
              "      <td>No</td>\n",
              "      <td>Month-to-month</td>\n",
              "      <td>Yes</td>\n",
              "      <td>Electronic check</td>\n",
              "      <td>29.60</td>\n",
              "      <td>346.45</td>\n",
              "      <td>No</td>\n",
              "    </tr>\n",
              "    <tr>\n",
              "      <th>7041</th>\n",
              "      <td>8361-LTMKD</td>\n",
              "      <td>4</td>\n",
              "      <td>Yes</td>\n",
              "      <td>Month-to-month</td>\n",
              "      <td>Yes</td>\n",
              "      <td>Mailed check</td>\n",
              "      <td>74.40</td>\n",
              "      <td>306.6</td>\n",
              "      <td>Yes</td>\n",
              "    </tr>\n",
              "    <tr>\n",
              "      <th>7042</th>\n",
              "      <td>3186-AJIEK</td>\n",
              "      <td>66</td>\n",
              "      <td>Yes</td>\n",
              "      <td>Two year</td>\n",
              "      <td>Yes</td>\n",
              "      <td>Bank transfer (automatic)</td>\n",
              "      <td>105.65</td>\n",
              "      <td>6844.5</td>\n",
              "      <td>No</td>\n",
              "    </tr>\n",
              "  </tbody>\n",
              "</table>\n",
              "<p>7043 rows × 9 columns</p>\n",
              "</div>"
            ],
            "text/plain": [
              "      customerID  tenure PhoneService  ... MonthlyCharges TotalCharges Churn\n",
              "0     7590-VHVEG       1           No  ...          29.85        29.85    No\n",
              "1     5575-GNVDE      34          Yes  ...          56.95       1889.5    No\n",
              "2     3668-QPYBK       2          Yes  ...          53.85       108.15   Yes\n",
              "3     7795-CFOCW      45           No  ...          42.30      1840.75    No\n",
              "4     9237-HQITU       2          Yes  ...          70.70       151.65   Yes\n",
              "...          ...     ...          ...  ...            ...          ...   ...\n",
              "7038  6840-RESVB      24          Yes  ...          84.80       1990.5    No\n",
              "7039  2234-XADUH      72          Yes  ...         103.20       7362.9    No\n",
              "7040  4801-JZAZL      11           No  ...          29.60       346.45    No\n",
              "7041  8361-LTMKD       4          Yes  ...          74.40        306.6   Yes\n",
              "7042  3186-AJIEK      66          Yes  ...         105.65       6844.5    No\n",
              "\n",
              "[7043 rows x 9 columns]"
            ]
          },
          "metadata": {
            "tags": []
          },
          "execution_count": 2
        }
      ]
    },
    {
      "cell_type": "code",
      "metadata": {
        "colab": {
          "base_uri": "https://localhost:8080/",
          "height": 0
        },
        "id": "hlaYywnNJCog",
        "outputId": "c44142ec-68ac-487d-b134-60cb760a63a7"
      },
      "source": [
        "customer_data = pd.read_csv(\"/content/drive/MyDrive/customer_data.csv\")\n",
        "customer_data"
      ],
      "execution_count": 3,
      "outputs": [
        {
          "output_type": "execute_result",
          "data": {
            "text/html": [
              "<div>\n",
              "<style scoped>\n",
              "    .dataframe tbody tr th:only-of-type {\n",
              "        vertical-align: middle;\n",
              "    }\n",
              "\n",
              "    .dataframe tbody tr th {\n",
              "        vertical-align: top;\n",
              "    }\n",
              "\n",
              "    .dataframe thead th {\n",
              "        text-align: right;\n",
              "    }\n",
              "</style>\n",
              "<table border=\"1\" class=\"dataframe\">\n",
              "  <thead>\n",
              "    <tr style=\"text-align: right;\">\n",
              "      <th></th>\n",
              "      <th>customerID</th>\n",
              "      <th>gender</th>\n",
              "      <th>SeniorCitizen</th>\n",
              "      <th>Partner</th>\n",
              "      <th>Dependents</th>\n",
              "    </tr>\n",
              "  </thead>\n",
              "  <tbody>\n",
              "    <tr>\n",
              "      <th>0</th>\n",
              "      <td>7590-VHVEG</td>\n",
              "      <td>Female</td>\n",
              "      <td>0</td>\n",
              "      <td>Yes</td>\n",
              "      <td>No</td>\n",
              "    </tr>\n",
              "    <tr>\n",
              "      <th>1</th>\n",
              "      <td>5575-GNVDE</td>\n",
              "      <td>Male</td>\n",
              "      <td>0</td>\n",
              "      <td>No</td>\n",
              "      <td>No</td>\n",
              "    </tr>\n",
              "    <tr>\n",
              "      <th>2</th>\n",
              "      <td>3668-QPYBK</td>\n",
              "      <td>Male</td>\n",
              "      <td>0</td>\n",
              "      <td>No</td>\n",
              "      <td>No</td>\n",
              "    </tr>\n",
              "    <tr>\n",
              "      <th>3</th>\n",
              "      <td>7795-CFOCW</td>\n",
              "      <td>Male</td>\n",
              "      <td>0</td>\n",
              "      <td>No</td>\n",
              "      <td>No</td>\n",
              "    </tr>\n",
              "    <tr>\n",
              "      <th>4</th>\n",
              "      <td>9237-HQITU</td>\n",
              "      <td>Female</td>\n",
              "      <td>0</td>\n",
              "      <td>No</td>\n",
              "      <td>No</td>\n",
              "    </tr>\n",
              "    <tr>\n",
              "      <th>...</th>\n",
              "      <td>...</td>\n",
              "      <td>...</td>\n",
              "      <td>...</td>\n",
              "      <td>...</td>\n",
              "      <td>...</td>\n",
              "    </tr>\n",
              "    <tr>\n",
              "      <th>7038</th>\n",
              "      <td>6840-RESVB</td>\n",
              "      <td>Male</td>\n",
              "      <td>0</td>\n",
              "      <td>Yes</td>\n",
              "      <td>Yes</td>\n",
              "    </tr>\n",
              "    <tr>\n",
              "      <th>7039</th>\n",
              "      <td>2234-XADUH</td>\n",
              "      <td>Female</td>\n",
              "      <td>0</td>\n",
              "      <td>Yes</td>\n",
              "      <td>Yes</td>\n",
              "    </tr>\n",
              "    <tr>\n",
              "      <th>7040</th>\n",
              "      <td>4801-JZAZL</td>\n",
              "      <td>Female</td>\n",
              "      <td>0</td>\n",
              "      <td>Yes</td>\n",
              "      <td>Yes</td>\n",
              "    </tr>\n",
              "    <tr>\n",
              "      <th>7041</th>\n",
              "      <td>8361-LTMKD</td>\n",
              "      <td>Male</td>\n",
              "      <td>1</td>\n",
              "      <td>Yes</td>\n",
              "      <td>No</td>\n",
              "    </tr>\n",
              "    <tr>\n",
              "      <th>7042</th>\n",
              "      <td>3186-AJIEK</td>\n",
              "      <td>Male</td>\n",
              "      <td>0</td>\n",
              "      <td>No</td>\n",
              "      <td>No</td>\n",
              "    </tr>\n",
              "  </tbody>\n",
              "</table>\n",
              "<p>7043 rows × 5 columns</p>\n",
              "</div>"
            ],
            "text/plain": [
              "      customerID  gender  SeniorCitizen Partner Dependents\n",
              "0     7590-VHVEG  Female              0     Yes         No\n",
              "1     5575-GNVDE    Male              0      No         No\n",
              "2     3668-QPYBK    Male              0      No         No\n",
              "3     7795-CFOCW    Male              0      No         No\n",
              "4     9237-HQITU  Female              0      No         No\n",
              "...          ...     ...            ...     ...        ...\n",
              "7038  6840-RESVB    Male              0     Yes        Yes\n",
              "7039  2234-XADUH  Female              0     Yes        Yes\n",
              "7040  4801-JZAZL  Female              0     Yes        Yes\n",
              "7041  8361-LTMKD    Male              1     Yes         No\n",
              "7042  3186-AJIEK    Male              0      No         No\n",
              "\n",
              "[7043 rows x 5 columns]"
            ]
          },
          "metadata": {
            "tags": []
          },
          "execution_count": 3
        }
      ]
    },
    {
      "cell_type": "code",
      "metadata": {
        "colab": {
          "base_uri": "https://localhost:8080/",
          "height": 0
        },
        "id": "nC_qRquQNzFo",
        "outputId": "ed407e87-6107-4007-b593-1651a631aa06"
      },
      "source": [
        "internet_data = pd.read_csv(\"/content/drive/MyDrive/internet_data.csv\")\n",
        "internet_data"
      ],
      "execution_count": 4,
      "outputs": [
        {
          "output_type": "execute_result",
          "data": {
            "text/html": [
              "<div>\n",
              "<style scoped>\n",
              "    .dataframe tbody tr th:only-of-type {\n",
              "        vertical-align: middle;\n",
              "    }\n",
              "\n",
              "    .dataframe tbody tr th {\n",
              "        vertical-align: top;\n",
              "    }\n",
              "\n",
              "    .dataframe thead th {\n",
              "        text-align: right;\n",
              "    }\n",
              "</style>\n",
              "<table border=\"1\" class=\"dataframe\">\n",
              "  <thead>\n",
              "    <tr style=\"text-align: right;\">\n",
              "      <th></th>\n",
              "      <th>customerID</th>\n",
              "      <th>MultipleLines</th>\n",
              "      <th>InternetService</th>\n",
              "      <th>OnlineSecurity</th>\n",
              "      <th>OnlineBackup</th>\n",
              "      <th>DeviceProtection</th>\n",
              "      <th>TechSupport</th>\n",
              "      <th>StreamingTV</th>\n",
              "      <th>StreamingMovies</th>\n",
              "    </tr>\n",
              "  </thead>\n",
              "  <tbody>\n",
              "    <tr>\n",
              "      <th>0</th>\n",
              "      <td>7590-VHVEG</td>\n",
              "      <td>No phone service</td>\n",
              "      <td>DSL</td>\n",
              "      <td>No</td>\n",
              "      <td>Yes</td>\n",
              "      <td>No</td>\n",
              "      <td>No</td>\n",
              "      <td>No</td>\n",
              "      <td>No</td>\n",
              "    </tr>\n",
              "    <tr>\n",
              "      <th>1</th>\n",
              "      <td>5575-GNVDE</td>\n",
              "      <td>No</td>\n",
              "      <td>DSL</td>\n",
              "      <td>Yes</td>\n",
              "      <td>No</td>\n",
              "      <td>Yes</td>\n",
              "      <td>No</td>\n",
              "      <td>No</td>\n",
              "      <td>No</td>\n",
              "    </tr>\n",
              "    <tr>\n",
              "      <th>2</th>\n",
              "      <td>3668-QPYBK</td>\n",
              "      <td>No</td>\n",
              "      <td>DSL</td>\n",
              "      <td>Yes</td>\n",
              "      <td>Yes</td>\n",
              "      <td>No</td>\n",
              "      <td>No</td>\n",
              "      <td>No</td>\n",
              "      <td>No</td>\n",
              "    </tr>\n",
              "    <tr>\n",
              "      <th>3</th>\n",
              "      <td>7795-CFOCW</td>\n",
              "      <td>No phone service</td>\n",
              "      <td>DSL</td>\n",
              "      <td>Yes</td>\n",
              "      <td>No</td>\n",
              "      <td>Yes</td>\n",
              "      <td>Yes</td>\n",
              "      <td>No</td>\n",
              "      <td>No</td>\n",
              "    </tr>\n",
              "    <tr>\n",
              "      <th>4</th>\n",
              "      <td>9237-HQITU</td>\n",
              "      <td>No</td>\n",
              "      <td>Fiber optic</td>\n",
              "      <td>No</td>\n",
              "      <td>No</td>\n",
              "      <td>No</td>\n",
              "      <td>No</td>\n",
              "      <td>No</td>\n",
              "      <td>No</td>\n",
              "    </tr>\n",
              "    <tr>\n",
              "      <th>...</th>\n",
              "      <td>...</td>\n",
              "      <td>...</td>\n",
              "      <td>...</td>\n",
              "      <td>...</td>\n",
              "      <td>...</td>\n",
              "      <td>...</td>\n",
              "      <td>...</td>\n",
              "      <td>...</td>\n",
              "      <td>...</td>\n",
              "    </tr>\n",
              "    <tr>\n",
              "      <th>7038</th>\n",
              "      <td>6840-RESVB</td>\n",
              "      <td>Yes</td>\n",
              "      <td>DSL</td>\n",
              "      <td>Yes</td>\n",
              "      <td>No</td>\n",
              "      <td>Yes</td>\n",
              "      <td>Yes</td>\n",
              "      <td>Yes</td>\n",
              "      <td>Yes</td>\n",
              "    </tr>\n",
              "    <tr>\n",
              "      <th>7039</th>\n",
              "      <td>2234-XADUH</td>\n",
              "      <td>Yes</td>\n",
              "      <td>Fiber optic</td>\n",
              "      <td>No</td>\n",
              "      <td>Yes</td>\n",
              "      <td>Yes</td>\n",
              "      <td>No</td>\n",
              "      <td>Yes</td>\n",
              "      <td>Yes</td>\n",
              "    </tr>\n",
              "    <tr>\n",
              "      <th>7040</th>\n",
              "      <td>4801-JZAZL</td>\n",
              "      <td>No phone service</td>\n",
              "      <td>DSL</td>\n",
              "      <td>Yes</td>\n",
              "      <td>No</td>\n",
              "      <td>No</td>\n",
              "      <td>No</td>\n",
              "      <td>No</td>\n",
              "      <td>No</td>\n",
              "    </tr>\n",
              "    <tr>\n",
              "      <th>7041</th>\n",
              "      <td>8361-LTMKD</td>\n",
              "      <td>Yes</td>\n",
              "      <td>Fiber optic</td>\n",
              "      <td>No</td>\n",
              "      <td>No</td>\n",
              "      <td>No</td>\n",
              "      <td>No</td>\n",
              "      <td>No</td>\n",
              "      <td>No</td>\n",
              "    </tr>\n",
              "    <tr>\n",
              "      <th>7042</th>\n",
              "      <td>3186-AJIEK</td>\n",
              "      <td>No</td>\n",
              "      <td>Fiber optic</td>\n",
              "      <td>Yes</td>\n",
              "      <td>No</td>\n",
              "      <td>Yes</td>\n",
              "      <td>Yes</td>\n",
              "      <td>Yes</td>\n",
              "      <td>Yes</td>\n",
              "    </tr>\n",
              "  </tbody>\n",
              "</table>\n",
              "<p>7043 rows × 9 columns</p>\n",
              "</div>"
            ],
            "text/plain": [
              "      customerID     MultipleLines  ... StreamingTV StreamingMovies\n",
              "0     7590-VHVEG  No phone service  ...          No              No\n",
              "1     5575-GNVDE                No  ...          No              No\n",
              "2     3668-QPYBK                No  ...          No              No\n",
              "3     7795-CFOCW  No phone service  ...          No              No\n",
              "4     9237-HQITU                No  ...          No              No\n",
              "...          ...               ...  ...         ...             ...\n",
              "7038  6840-RESVB               Yes  ...         Yes             Yes\n",
              "7039  2234-XADUH               Yes  ...         Yes             Yes\n",
              "7040  4801-JZAZL  No phone service  ...          No              No\n",
              "7041  8361-LTMKD               Yes  ...          No              No\n",
              "7042  3186-AJIEK                No  ...         Yes             Yes\n",
              "\n",
              "[7043 rows x 9 columns]"
            ]
          },
          "metadata": {
            "tags": []
          },
          "execution_count": 4
        }
      ]
    },
    {
      "cell_type": "markdown",
      "metadata": {
        "id": "cRFPlvIT6sXl"
      },
      "source": [
        "O conjunto de dados está separado em 3 diferentes arquivos. Vamos precisar usar o **método merge** para conseguir unir tudo em um único dataframe e utilizar apenas as colunas necessárias."
      ]
    },
    {
      "cell_type": "code",
      "metadata": {
        "colab": {
          "base_uri": "https://localhost:8080/",
          "height": 0
        },
        "id": "k0_c9a5PO-bz",
        "outputId": "1320a650-855c-49be-a755-9a7715d683de"
      },
      "source": [
        "churn = pd.merge(churn_data[[\"customerID\",\"tenure\", \"Contract\", \"PaperlessBilling\", \"Churn\"]],\n",
        "                 internet_data[[\"customerID\", \"InternetService\", \"TechSupport\"]],\n",
        "                 on=\"customerID\")\n",
        "\n",
        "churn.sample(10)"
      ],
      "execution_count": 5,
      "outputs": [
        {
          "output_type": "execute_result",
          "data": {
            "text/html": [
              "<div>\n",
              "<style scoped>\n",
              "    .dataframe tbody tr th:only-of-type {\n",
              "        vertical-align: middle;\n",
              "    }\n",
              "\n",
              "    .dataframe tbody tr th {\n",
              "        vertical-align: top;\n",
              "    }\n",
              "\n",
              "    .dataframe thead th {\n",
              "        text-align: right;\n",
              "    }\n",
              "</style>\n",
              "<table border=\"1\" class=\"dataframe\">\n",
              "  <thead>\n",
              "    <tr style=\"text-align: right;\">\n",
              "      <th></th>\n",
              "      <th>customerID</th>\n",
              "      <th>tenure</th>\n",
              "      <th>Contract</th>\n",
              "      <th>PaperlessBilling</th>\n",
              "      <th>Churn</th>\n",
              "      <th>InternetService</th>\n",
              "      <th>TechSupport</th>\n",
              "    </tr>\n",
              "  </thead>\n",
              "  <tbody>\n",
              "    <tr>\n",
              "      <th>5526</th>\n",
              "      <td>6546-OPBBH</td>\n",
              "      <td>51</td>\n",
              "      <td>One year</td>\n",
              "      <td>Yes</td>\n",
              "      <td>No</td>\n",
              "      <td>No</td>\n",
              "      <td>No internet service</td>\n",
              "    </tr>\n",
              "    <tr>\n",
              "      <th>2867</th>\n",
              "      <td>7244-KXYZN</td>\n",
              "      <td>24</td>\n",
              "      <td>One year</td>\n",
              "      <td>No</td>\n",
              "      <td>No</td>\n",
              "      <td>No</td>\n",
              "      <td>No internet service</td>\n",
              "    </tr>\n",
              "    <tr>\n",
              "      <th>1740</th>\n",
              "      <td>1222-KJNZD</td>\n",
              "      <td>40</td>\n",
              "      <td>Month-to-month</td>\n",
              "      <td>Yes</td>\n",
              "      <td>No</td>\n",
              "      <td>No</td>\n",
              "      <td>No internet service</td>\n",
              "    </tr>\n",
              "    <tr>\n",
              "      <th>1814</th>\n",
              "      <td>5442-PPTJY</td>\n",
              "      <td>12</td>\n",
              "      <td>Two year</td>\n",
              "      <td>No</td>\n",
              "      <td>No</td>\n",
              "      <td>No</td>\n",
              "      <td>No internet service</td>\n",
              "    </tr>\n",
              "    <tr>\n",
              "      <th>4029</th>\n",
              "      <td>0019-GFNTW</td>\n",
              "      <td>56</td>\n",
              "      <td>Two year</td>\n",
              "      <td>No</td>\n",
              "      <td>No</td>\n",
              "      <td>DSL</td>\n",
              "      <td>Yes</td>\n",
              "    </tr>\n",
              "    <tr>\n",
              "      <th>2648</th>\n",
              "      <td>6131-FOYAS</td>\n",
              "      <td>35</td>\n",
              "      <td>Month-to-month</td>\n",
              "      <td>Yes</td>\n",
              "      <td>No</td>\n",
              "      <td>DSL</td>\n",
              "      <td>No</td>\n",
              "    </tr>\n",
              "    <tr>\n",
              "      <th>4781</th>\n",
              "      <td>9814-AOUDH</td>\n",
              "      <td>53</td>\n",
              "      <td>Two year</td>\n",
              "      <td>No</td>\n",
              "      <td>No</td>\n",
              "      <td>No</td>\n",
              "      <td>No internet service</td>\n",
              "    </tr>\n",
              "    <tr>\n",
              "      <th>414</th>\n",
              "      <td>1996-DBMUS</td>\n",
              "      <td>48</td>\n",
              "      <td>Month-to-month</td>\n",
              "      <td>Yes</td>\n",
              "      <td>No</td>\n",
              "      <td>Fiber optic</td>\n",
              "      <td>No</td>\n",
              "    </tr>\n",
              "    <tr>\n",
              "      <th>3081</th>\n",
              "      <td>6376-GAHQE</td>\n",
              "      <td>4</td>\n",
              "      <td>Month-to-month</td>\n",
              "      <td>No</td>\n",
              "      <td>Yes</td>\n",
              "      <td>Fiber optic</td>\n",
              "      <td>No</td>\n",
              "    </tr>\n",
              "    <tr>\n",
              "      <th>3789</th>\n",
              "      <td>0310-VQXAM</td>\n",
              "      <td>9</td>\n",
              "      <td>Month-to-month</td>\n",
              "      <td>No</td>\n",
              "      <td>No</td>\n",
              "      <td>No</td>\n",
              "      <td>No internet service</td>\n",
              "    </tr>\n",
              "  </tbody>\n",
              "</table>\n",
              "</div>"
            ],
            "text/plain": [
              "      customerID  tenure  ... InternetService          TechSupport\n",
              "5526  6546-OPBBH      51  ...              No  No internet service\n",
              "2867  7244-KXYZN      24  ...              No  No internet service\n",
              "1740  1222-KJNZD      40  ...              No  No internet service\n",
              "1814  5442-PPTJY      12  ...              No  No internet service\n",
              "4029  0019-GFNTW      56  ...             DSL                  Yes\n",
              "2648  6131-FOYAS      35  ...             DSL                   No\n",
              "4781  9814-AOUDH      53  ...              No  No internet service\n",
              "414   1996-DBMUS      48  ...     Fiber optic                   No\n",
              "3081  6376-GAHQE       4  ...     Fiber optic                   No\n",
              "3789  0310-VQXAM       9  ...              No  No internet service\n",
              "\n",
              "[10 rows x 7 columns]"
            ]
          },
          "metadata": {
            "tags": []
          },
          "execution_count": 5
        }
      ]
    },
    {
      "cell_type": "code",
      "metadata": {
        "colab": {
          "base_uri": "https://localhost:8080/"
        },
        "id": "v3yu8mLp-A4U",
        "outputId": "9f67b714-5198-4600-ae15-b682f6ca83a0"
      },
      "source": [
        "# verificando as informações do dataset\n",
        "\n",
        "churn.info()"
      ],
      "execution_count": 6,
      "outputs": [
        {
          "output_type": "stream",
          "text": [
            "<class 'pandas.core.frame.DataFrame'>\n",
            "Int64Index: 7043 entries, 0 to 7042\n",
            "Data columns (total 7 columns):\n",
            " #   Column            Non-Null Count  Dtype \n",
            "---  ------            --------------  ----- \n",
            " 0   customerID        7043 non-null   object\n",
            " 1   tenure            7043 non-null   int64 \n",
            " 2   Contract          7043 non-null   object\n",
            " 3   PaperlessBilling  7043 non-null   object\n",
            " 4   Churn             7043 non-null   object\n",
            " 5   InternetService   7043 non-null   object\n",
            " 6   TechSupport       7043 non-null   object\n",
            "dtypes: int64(1), object(6)\n",
            "memory usage: 440.2+ KB\n"
          ],
          "name": "stdout"
        }
      ]
    },
    {
      "cell_type": "code",
      "metadata": {
        "colab": {
          "base_uri": "https://localhost:8080/"
        },
        "id": "UdLZJmeXD-U_",
        "outputId": "9f642753-1486-42dd-ff5c-f5d3a952c409"
      },
      "source": [
        "# verificando se existem arquivos faltantes\n",
        "\n",
        "churn.isnull().sum()"
      ],
      "execution_count": 7,
      "outputs": [
        {
          "output_type": "execute_result",
          "data": {
            "text/plain": [
              "customerID          0\n",
              "tenure              0\n",
              "Contract            0\n",
              "PaperlessBilling    0\n",
              "Churn               0\n",
              "InternetService     0\n",
              "TechSupport         0\n",
              "dtype: int64"
            ]
          },
          "metadata": {
            "tags": []
          },
          "execution_count": 7
        }
      ]
    },
    {
      "cell_type": "code",
      "metadata": {
        "colab": {
          "base_uri": "https://localhost:8080/"
        },
        "id": "BaUAhDcpEfmF",
        "outputId": "c1a3b6bc-586b-4d27-d3a7-edd0627c5247"
      },
      "source": [
        "# verificando os valores uniques das variáveis categóricas\n",
        "\n",
        "churn.PaperlessBilling.value_counts()"
      ],
      "execution_count": 8,
      "outputs": [
        {
          "output_type": "execute_result",
          "data": {
            "text/plain": [
              "Yes    4171\n",
              "No     2872\n",
              "Name: PaperlessBilling, dtype: int64"
            ]
          },
          "metadata": {
            "tags": []
          },
          "execution_count": 8
        }
      ]
    },
    {
      "cell_type": "code",
      "metadata": {
        "colab": {
          "base_uri": "https://localhost:8080/"
        },
        "id": "GPevAEjXFMlo",
        "outputId": "4be83575-a357-455b-fe49-9814762ce645"
      },
      "source": [
        "churn.Churn.value_counts()"
      ],
      "execution_count": 9,
      "outputs": [
        {
          "output_type": "execute_result",
          "data": {
            "text/plain": [
              "No     5174\n",
              "Yes    1869\n",
              "Name: Churn, dtype: int64"
            ]
          },
          "metadata": {
            "tags": []
          },
          "execution_count": 9
        }
      ]
    },
    {
      "cell_type": "code",
      "metadata": {
        "colab": {
          "base_uri": "https://localhost:8080/"
        },
        "id": "A1fQnDwcFXHg",
        "outputId": "f83e93e8-6e16-4939-ec10-83d4d38dedd8"
      },
      "source": [
        "churn.InternetService.value_counts()"
      ],
      "execution_count": 10,
      "outputs": [
        {
          "output_type": "execute_result",
          "data": {
            "text/plain": [
              "Fiber optic    3096\n",
              "DSL            2421\n",
              "No             1526\n",
              "Name: InternetService, dtype: int64"
            ]
          },
          "metadata": {
            "tags": []
          },
          "execution_count": 10
        }
      ]
    },
    {
      "cell_type": "code",
      "metadata": {
        "colab": {
          "base_uri": "https://localhost:8080/"
        },
        "id": "57Za7bowFiW_",
        "outputId": "a3a21cc0-783c-42e4-af54-2534ab52dcac"
      },
      "source": [
        "churn.TechSupport.value_counts()"
      ],
      "execution_count": 11,
      "outputs": [
        {
          "output_type": "execute_result",
          "data": {
            "text/plain": [
              "No                     3473\n",
              "Yes                    2044\n",
              "No internet service    1526\n",
              "Name: TechSupport, dtype: int64"
            ]
          },
          "metadata": {
            "tags": []
          },
          "execution_count": 11
        }
      ]
    },
    {
      "cell_type": "code",
      "metadata": {
        "colab": {
          "base_uri": "https://localhost:8080/"
        },
        "id": "YWGY5SVRmRzZ",
        "outputId": "481ee0fe-fce6-4b30-94aa-fac9e1dd347d"
      },
      "source": [
        "churn.Contract.value_counts()"
      ],
      "execution_count": 12,
      "outputs": [
        {
          "output_type": "execute_result",
          "data": {
            "text/plain": [
              "Month-to-month    3875\n",
              "Two year          1695\n",
              "One year          1473\n",
              "Name: Contract, dtype: int64"
            ]
          },
          "metadata": {
            "tags": []
          },
          "execution_count": 12
        }
      ]
    },
    {
      "cell_type": "markdown",
      "metadata": {
        "id": "UjGZPpyHG39F"
      },
      "source": [
        "# Tenure: Quando tempo o cliente ficou na empresa"
      ]
    },
    {
      "cell_type": "markdown",
      "metadata": {
        "id": "zrog4wBpG_ou"
      },
      "source": [
        "Essa métrica indica quanto tempo o cliente ficou com a empresa, levando em consideração que os planos são anuais ou mensais."
      ]
    },
    {
      "cell_type": "code",
      "metadata": {
        "colab": {
          "base_uri": "https://localhost:8080/",
          "height": 0
        },
        "id": "cbbvjtECFr7X",
        "outputId": "7ec3a4e3-3348-4819-822a-0c04b763c6f8"
      },
      "source": [
        "# plotando um gráfico para visualizar a distribuição dos meses\n",
        "\n",
        "sns.set_theme()\n",
        "\n",
        "churn.tenure.plot(kind=\"hist\",\n",
        "                  figsize=(20,8),\n",
        "                  title=\"Distribuição dos meses que o cliente fica na empresa\",\n",
        "                  bins=60);\n",
        "\n",
        "plt.xlabel(\"Meses\")\n",
        "plt.ylabel(\"Clientes\");"
      ],
      "execution_count": 13,
      "outputs": [
        {
          "output_type": "display_data",
          "data": {
            "image/png": "[encoded data removed]",
            "text/plain": [
              "<Figure size 1440x576 with 1 Axes>"
            ]
          },
          "metadata": {
            "tags": []
          }
        }
      ]
    },
    {
      "cell_type": "markdown",
      "metadata": {
        "id": "JSvuIzk4PMsC"
      },
      "source": [
        "A maioria dos clientes fica na empresa entre 1 mês e 72 meses (6 anos), tendo uma maior concentração nos primeiros meses. Podemos ver que a polaridade é altíssima. Para os clientes que ficaram mais de 70 meses, nota-se que a renovação atual foi feita 6 vezes."
      ]
    },
    {
      "cell_type": "markdown",
      "metadata": {
        "id": "W3cJlzTXmlJ-"
      },
      "source": [
        "#Contract - O tipo de contrato que o cliente escolheu"
      ]
    },
    {
      "cell_type": "markdown",
      "metadata": {
        "id": "R8O2pwalm0Ad"
      },
      "source": [
        "Já sabemos que a concentração de clientes está no 1˚ mês. Vamos checar se isso se deve à facilidade de cancelamento do contrato."
      ]
    },
    {
      "cell_type": "code",
      "metadata": {
        "colab": {
          "base_uri": "https://localhost:8080/",
          "height": 0
        },
        "id": "7H6udm0LnONc",
        "outputId": "8e5bb07f-df6b-49ec-85cf-a46235da5c54"
      },
      "source": [
        "# plotando um gráfico para visualização das variáveis do modelo de contrato\n",
        "\n",
        "churn.Contract.value_counts().plot(kind=\"barh\",\n",
        "                                   figsize=(10,8),\n",
        "                                   title=\"Tipo de contrato\");"
      ],
      "execution_count": 14,
      "outputs": [
        {
          "output_type": "display_data",
          "data": {
            "image/png": "[encoded data removed]",
            "text/plain": [
              "<Figure size 720x576 with 1 Axes>"
            ]
          },
          "metadata": {
            "tags": []
          }
        }
      ]
    },
    {
      "cell_type": "markdown",
      "metadata": {
        "id": "bd4clcvOpSUT"
      },
      "source": [
        "Aqui está uma grande ideia do porquê os clientes ficam apenas 1 mês no serviço. Existe uma facilidade enorme para o cancelamento do plano, pois no contrato de mensalidade não há multa para cancelamentos entre um mês e outro. Nisso, há poucas oportunidades para a empresa conseguir encantar o seu cliente e oferecer uma **vantagem palpável** para ele.\n",
        "\n",
        "Mas porque a maioria dos contratos são de mensalidade sendo que nos planos anuais o valor dividido mensalmente tende a ficar menor?\n",
        "\n",
        "Vamos continuar nossa análise para descobrir."
      ]
    },
    {
      "cell_type": "markdown",
      "metadata": {
        "id": "rXtInO17bYbx"
      },
      "source": [
        "# PaperlessBilling - Se o cliente optou por usar a fatura digital"
      ]
    },
    {
      "cell_type": "markdown",
      "metadata": {
        "id": "hKdLORPci7YW"
      },
      "source": [
        "A fatura digital é uma forma muito mais apropriada da empresa conseguir lidar com os pagamentos de seus clientes. Ajuda a diminuir custos, facilita a organização e diminui as inadimplências.\n",
        "\n",
        "De 7043 registros, **4171 optaram pela fatura digital** enquanto que 2872 clientes optaram pela fatura física."
      ]
    },
    {
      "cell_type": "code",
      "metadata": {
        "colab": {
          "base_uri": "https://localhost:8080/",
          "height": 0
        },
        "id": "U17A_hIXbeQH",
        "outputId": "31339f4f-6bb7-4f05-c3a9-57ff07238ee3"
      },
      "source": [
        "churn.PaperlessBilling.value_counts().plot(kind=\"bar\",\n",
        "                                           figsize=(12,8),\n",
        "                                           title=\"Fatura digital\");"
      ],
      "execution_count": 15,
      "outputs": [
        {
          "output_type": "display_data",
          "data": {
            "image/png": "[encoded data removed]",
            "text/plain": [
              "<Figure size 864x576 with 1 Axes>"
            ]
          },
          "metadata": {
            "tags": []
          }
        }
      ]
    },
    {
      "cell_type": "markdown",
      "metadata": {
        "id": "Cxbi0aQ4qbn-"
      },
      "source": [
        "A fatura digital é aceita majoritariamente pela **geração Y ou Millennials** (pessoas nascidas em 1981 até 1996).\n",
        "\n",
        "Essa geração é marcada pelas experiências inovadoras, rápidas, não burocráticas e principalmente livres. Eles ditam as estratégias da maior parte das empresas.\n",
        "\n",
        "Por isso a tabela abaixo mostra que os clientes que optaram pelo modelo de contrato **Mês a Mês** (ou seja, liberdade para cancelar a qualquer momento), foram responsáveis por mais da metade dos pedidos de fatura digital.\n",
        "\n",
        "Essa faixa de clientes não gosta de estar presa à nenhum serviço e por mais que pague um valor maior pela fatura mensal, em detrimento da anual, optam por esse meio. Se por algum motivo o serviço for ruim, eles migram para outro do dia para a noite.\n",
        "\n",
        "Fatura física? Nem pensar! Quanto menos papel, melhor."
      ]
    },
    {
      "cell_type": "code",
      "metadata": {
        "id": "EAiPAWu9qiQj",
        "colab": {
          "base_uri": "https://localhost:8080/",
          "height": 0
        },
        "outputId": "1f5a8844-a0dc-495f-dc48-94c0c4051cee"
      },
      "source": [
        "pd.crosstab(churn[\"PaperlessBilling\"], churn[\"Contract\"])"
      ],
      "execution_count": 16,
      "outputs": [
        {
          "output_type": "execute_result",
          "data": {
            "text/html": [
              "<div>\n",
              "<style scoped>\n",
              "    .dataframe tbody tr th:only-of-type {\n",
              "        vertical-align: middle;\n",
              "    }\n",
              "\n",
              "    .dataframe tbody tr th {\n",
              "        vertical-align: top;\n",
              "    }\n",
              "\n",
              "    .dataframe thead th {\n",
              "        text-align: right;\n",
              "    }\n",
              "</style>\n",
              "<table border=\"1\" class=\"dataframe\">\n",
              "  <thead>\n",
              "    <tr style=\"text-align: right;\">\n",
              "      <th>Contract</th>\n",
              "      <th>Month-to-month</th>\n",
              "      <th>One year</th>\n",
              "      <th>Two year</th>\n",
              "    </tr>\n",
              "    <tr>\n",
              "      <th>PaperlessBilling</th>\n",
              "      <th></th>\n",
              "      <th></th>\n",
              "      <th></th>\n",
              "    </tr>\n",
              "  </thead>\n",
              "  <tbody>\n",
              "    <tr>\n",
              "      <th>No</th>\n",
              "      <td>1289</td>\n",
              "      <td>673</td>\n",
              "      <td>910</td>\n",
              "    </tr>\n",
              "    <tr>\n",
              "      <th>Yes</th>\n",
              "      <td>2586</td>\n",
              "      <td>800</td>\n",
              "      <td>785</td>\n",
              "    </tr>\n",
              "  </tbody>\n",
              "</table>\n",
              "</div>"
            ],
            "text/plain": [
              "Contract          Month-to-month  One year  Two year\n",
              "PaperlessBilling                                    \n",
              "No                          1289       673       910\n",
              "Yes                         2586       800       785"
            ]
          },
          "metadata": {
            "tags": []
          },
          "execution_count": 16
        }
      ]
    },
    {
      "cell_type": "markdown",
      "metadata": {
        "id": "moZRvCw6Wc_x"
      },
      "source": [
        "#InternetService -  O tipo de serviço de internet escolhido pelo cliente"
      ]
    },
    {
      "cell_type": "markdown",
      "metadata": {
        "id": "pAzDIIIjWnNm"
      },
      "source": [
        "Se os clientes estão realmente preocupados com uma internet mais veloz, então faria sentido eles contratarem o tipo de conexão mais veloz. Os tipos de conexão são:\n",
        "- **DSL**: Realizado através de pulso magnético e que pode facilmente sofrer interferência por eletricidade e outros fatores, causando uma queda de sinal muito grande. Em poucas palavras, seria um tipo de conexão de baixa qualidade\n",
        "- **Fibra Ótica**: Tem a mesma velocidade de download e upload e é realizada através da luz, por isso quase não sofre nenhum tipo de interferência. Esse tipo de conexão é a mais veloz.\n",
        "\n",
        "Já sabemos que 3096 clientes optaram pela fibra ótica e 2421 pela DSL. O restante optou por não ter uma linha de internet.\n",
        "\n",
        "Vamos visualizar melhor esses números."
      ]
    },
    {
      "cell_type": "code",
      "metadata": {
        "colab": {
          "base_uri": "https://localhost:8080/"
        },
        "id": "bcUnztOAW9Ix",
        "outputId": "712f5a16-fd47-429e-d636-13aefd2c32ad"
      },
      "source": [
        "churn.InternetService.value_counts()"
      ],
      "execution_count": 17,
      "outputs": [
        {
          "output_type": "execute_result",
          "data": {
            "text/plain": [
              "Fiber optic    3096\n",
              "DSL            2421\n",
              "No             1526\n",
              "Name: InternetService, dtype: int64"
            ]
          },
          "metadata": {
            "tags": []
          },
          "execution_count": 17
        }
      ]
    },
    {
      "cell_type": "code",
      "metadata": {
        "colab": {
          "base_uri": "https://localhost:8080/",
          "height": 0
        },
        "id": "vfF5EshoYnzV",
        "outputId": "7b571815-7b08-4d2f-96b6-d51fd46b15fc"
      },
      "source": [
        "churn.InternetService.value_counts().plot(kind=\"bar\",\n",
        "                                          figsize=(12,8),\n",
        "                                          title=\"Tipo de internet\");"
      ],
      "execution_count": 18,
      "outputs": [
        {
          "output_type": "display_data",
          "data": {
            "image/png": "[encoded data removed]",
            "text/plain": [
              "<Figure size 864x576 with 1 Axes>"
            ]
          },
          "metadata": {
            "tags": []
          }
        }
      ]
    },
    {
      "cell_type": "markdown",
      "metadata": {
        "id": "hbRJHaYetr5O"
      },
      "source": [
        "A fibra ótica é muito requisitada quando o assunto é: **assistir filmes online em streaming, ouvir músicas em streaming, jogar online, resolver questões do trabalho (principalmente no modo home office) e se entreter de diversas outras formas.**\n",
        "\n",
        "Mais uma vez a geração Y faz protagonismo aqui. Ela é responsável pelo aumento de consumo dos conteúdos citados acima.\n",
        "\n",
        "fonte: Global Millennial Survey 2020, Deloitte"
      ]
    },
    {
      "cell_type": "markdown",
      "metadata": {
        "id": "XXBLX1AIwI9j"
      },
      "source": [
        "#TechSupport - Se o cliente optou pela assistência técnica"
      ]
    },
    {
      "cell_type": "markdown",
      "metadata": {
        "id": "aXD1hMDUwUOw"
      },
      "source": [
        "Aqui finalmente vamos conseguir identificar mais a fundo, se realmente a opção de assistência técnica é um dos fatores que **influênciam no churn dos clientes**, visto que nas análises anteriores pudemos saber com qual geração estávamos lidando e saber os seus hábitos de consumo."
      ]
    },
    {
      "cell_type": "code",
      "metadata": {
        "colab": {
          "base_uri": "https://localhost:8080/",
          "height": 0
        },
        "id": "0wWRTwn2wRZl",
        "outputId": "0cbaf47f-c43c-4359-9c67-8b34b8eb2025"
      },
      "source": [
        "#Vamos criar uma tabela de comparação\n",
        "\n",
        "pd.crosstab(churn[\"TechSupport\"], churn[\"Churn\"])"
      ],
      "execution_count": 19,
      "outputs": [
        {
          "output_type": "execute_result",
          "data": {
            "text/html": [
              "<div>\n",
              "<style scoped>\n",
              "    .dataframe tbody tr th:only-of-type {\n",
              "        vertical-align: middle;\n",
              "    }\n",
              "\n",
              "    .dataframe tbody tr th {\n",
              "        vertical-align: top;\n",
              "    }\n",
              "\n",
              "    .dataframe thead th {\n",
              "        text-align: right;\n",
              "    }\n",
              "</style>\n",
              "<table border=\"1\" class=\"dataframe\">\n",
              "  <thead>\n",
              "    <tr style=\"text-align: right;\">\n",
              "      <th>Churn</th>\n",
              "      <th>No</th>\n",
              "      <th>Yes</th>\n",
              "    </tr>\n",
              "    <tr>\n",
              "      <th>TechSupport</th>\n",
              "      <th></th>\n",
              "      <th></th>\n",
              "    </tr>\n",
              "  </thead>\n",
              "  <tbody>\n",
              "    <tr>\n",
              "      <th>No</th>\n",
              "      <td>2027</td>\n",
              "      <td>1446</td>\n",
              "    </tr>\n",
              "    <tr>\n",
              "      <th>No internet service</th>\n",
              "      <td>1413</td>\n",
              "      <td>113</td>\n",
              "    </tr>\n",
              "    <tr>\n",
              "      <th>Yes</th>\n",
              "      <td>1734</td>\n",
              "      <td>310</td>\n",
              "    </tr>\n",
              "  </tbody>\n",
              "</table>\n",
              "</div>"
            ],
            "text/plain": [
              "Churn                  No   Yes\n",
              "TechSupport                    \n",
              "No                   2027  1446\n",
              "No internet service  1413   113\n",
              "Yes                  1734   310"
            ]
          },
          "metadata": {
            "tags": []
          },
          "execution_count": 19
        }
      ]
    },
    {
      "cell_type": "code",
      "metadata": {
        "id": "lhKjdQ7uxVvw"
      },
      "source": [
        "# Ficou um pouco confuso por conta dos registros \"No internet service\"\n",
        "# Vamos excluí-lo da nossa tabela, pois não servirá para nós\n",
        "\n",
        "churn = churn[~churn.TechSupport.str.contains(\"No internet service\")]"
      ],
      "execution_count": 20,
      "outputs": []
    },
    {
      "cell_type": "code",
      "metadata": {
        "colab": {
          "base_uri": "https://localhost:8080/",
          "height": 0
        },
        "id": "N_2byJ1F0mvX",
        "outputId": "2fe6b0fc-1ef8-4668-90b5-abe43159e4bd"
      },
      "source": [
        "# Rodando o comando crosstab novamente\n",
        "\n",
        "pd.crosstab(churn[\"TechSupport\"], churn[\"Churn\"])"
      ],
      "execution_count": 21,
      "outputs": [
        {
          "output_type": "execute_result",
          "data": {
            "text/html": [
              "<div>\n",
              "<style scoped>\n",
              "    .dataframe tbody tr th:only-of-type {\n",
              "        vertical-align: middle;\n",
              "    }\n",
              "\n",
              "    .dataframe tbody tr th {\n",
              "        vertical-align: top;\n",
              "    }\n",
              "\n",
              "    .dataframe thead th {\n",
              "        text-align: right;\n",
              "    }\n",
              "</style>\n",
              "<table border=\"1\" class=\"dataframe\">\n",
              "  <thead>\n",
              "    <tr style=\"text-align: right;\">\n",
              "      <th>Churn</th>\n",
              "      <th>No</th>\n",
              "      <th>Yes</th>\n",
              "    </tr>\n",
              "    <tr>\n",
              "      <th>TechSupport</th>\n",
              "      <th></th>\n",
              "      <th></th>\n",
              "    </tr>\n",
              "  </thead>\n",
              "  <tbody>\n",
              "    <tr>\n",
              "      <th>No</th>\n",
              "      <td>2027</td>\n",
              "      <td>1446</td>\n",
              "    </tr>\n",
              "    <tr>\n",
              "      <th>Yes</th>\n",
              "      <td>1734</td>\n",
              "      <td>310</td>\n",
              "    </tr>\n",
              "  </tbody>\n",
              "</table>\n",
              "</div>"
            ],
            "text/plain": [
              "Churn          No   Yes\n",
              "TechSupport            \n",
              "No           2027  1446\n",
              "Yes          1734   310"
            ]
          },
          "metadata": {
            "tags": []
          },
          "execution_count": 21
        }
      ]
    },
    {
      "cell_type": "code",
      "metadata": {
        "colab": {
          "base_uri": "https://localhost:8080/",
          "height": 0
        },
        "id": "3cJ_G33P2nM2",
        "outputId": "1fa89824-9cd7-4d30-b4a7-d5120265c6dc"
      },
      "source": [
        "# A visualização está melhor assim\n",
        "# Vamos criar um gráfico para visualizar a comparação\n",
        "\n",
        "churn.TechSupport.value_counts().plot(kind=\"bar\",\n",
        "                                      figsize=(12,8),\n",
        "                                      title=\"Tech Support\");"
      ],
      "execution_count": 22,
      "outputs": [
        {
          "output_type": "display_data",
          "data": {
            "image/png": "[encoded data removed]",
            "text/plain": [
              "<Figure size 864x576 with 1 Axes>"
            ]
          },
          "metadata": {
            "tags": []
          }
        }
      ]
    },
    {
      "cell_type": "code",
      "metadata": {
        "colab": {
          "base_uri": "https://localhost:8080/",
          "height": 0
        },
        "id": "rPrByc-X8v_A",
        "outputId": "3b30966f-5a04-482d-8038-c1da54c589a1"
      },
      "source": [
        "churn.Churn.value_counts().plot(kind=\"bar\",\n",
        "                                figsize=(10,8),\n",
        "                                title=\"Churn\");"
      ],
      "execution_count": 23,
      "outputs": [
        {
          "output_type": "display_data",
          "data": {
            "image/png": "[encoded data removed]",
            "text/plain": [
              "<Figure size 720x576 with 1 Axes>"
            ]
          },
          "metadata": {
            "tags": []
          }
        }
      ]
    },
    {
      "cell_type": "markdown",
      "metadata": {
        "id": "ELv21t00-w_d"
      },
      "source": [
        "#Conclusão"
      ]
    },
    {
      "cell_type": "markdown",
      "metadata": {
        "id": "RHZawvsu-21a"
      },
      "source": [
        "Olhando os gráficos finais podemos ver claramente que:\n",
        "- Os clientes que **não pediram suporte técnico**, não entraram em churn. Muito possivelmente o serviço é intuitivo e de fácil utilização.\n",
        "- O número de clientes que **pediram suporte técnico** e não entraram em churn, foi maior do que os que pediram e decidiram sair."
      ]
    },
    {
      "cell_type": "markdown",
      "metadata": {
        "id": "sX9Ii4AnEc-c"
      },
      "source": [
        "Em outras palavras:\n",
        "Deve-se investir em **persuasão e técnicas de vendas** para que os clientes optem pelo suporte técnico, pois a porcentagem de churn quando o cliente opta por essa opção é infinitamente menor, do que quando ele não pede."
      ]
    },
    {
      "cell_type": "markdown",
      "metadata": {
        "id": "nds3E3hL2JZc"
      },
      "source": [
        "#Machine Learning - Prevendo clientes que entrarão em churn"
      ]
    },
    {
      "cell_type": "markdown",
      "metadata": {
        "id": "aV7mKgqwTXwH"
      },
      "source": [
        "Agora que ja sabemos que minha hipótese foi refutada e já temos um presuposto de qual caminho não seguir, vamos prototipar um pequeno modelo de Machine Learning usando a mesma base de dados para prever os clientes que entrarão em churn."
      ]
    },
    {
      "cell_type": "markdown",
      "metadata": {
        "id": "5mnSyKEqTsqz"
      },
      "source": [
        "Usaremos o algoritmo **Decision Tree**, sem nos preocupar com a performance pois o objetivo aqui não é criar um modelo robusto e sim uma experimentação. "
      ]
    },
    {
      "cell_type": "code",
      "metadata": {
        "id": "04m2cGBrYTqA"
      },
      "source": [
        "# Importando as bibliotecas necessárias\n",
        "\n",
        "import pandas as pd\n",
        "from sklearn.tree import DecisionTreeClassifier,export_graphviz\n",
        "from sklearn.model_selection import train_test_split\n",
        "from sklearn import metrics\n",
        "import numpy as np\n",
        "from sklearn import preprocessing"
      ],
      "execution_count": 24,
      "outputs": []
    },
    {
      "cell_type": "code",
      "metadata": {
        "id": "ok7RIpeJVnw9",
        "colab": {
          "base_uri": "https://localhost:8080/",
          "height": 515
        },
        "outputId": "f1916c03-2150-4da3-ff7e-21cab9b8a79c"
      },
      "source": [
        "# As nossas bases de dados estão carregadas mas iremos criar uma nova\n",
        "# com todas as colunas\n",
        "\n",
        "churn = pd.merge(churn_data,\n",
        "                 internet_data,\n",
        "                 on=\"customerID\")\n",
        "\n",
        "churn.sample(10)"
      ],
      "execution_count": 25,
      "outputs": [
        {
          "output_type": "execute_result",
          "data": {
            "text/html": [
              "<div>\n",
              "<style scoped>\n",
              "    .dataframe tbody tr th:only-of-type {\n",
              "        vertical-align: middle;\n",
              "    }\n",
              "\n",
              "    .dataframe tbody tr th {\n",
              "        vertical-align: top;\n",
              "    }\n",
              "\n",
              "    .dataframe thead th {\n",
              "        text-align: right;\n",
              "    }\n",
              "</style>\n",
              "<table border=\"1\" class=\"dataframe\">\n",
              "  <thead>\n",
              "    <tr style=\"text-align: right;\">\n",
              "      <th></th>\n",
              "      <th>customerID</th>\n",
              "      <th>tenure</th>\n",
              "      <th>PhoneService</th>\n",
              "      <th>Contract</th>\n",
              "      <th>PaperlessBilling</th>\n",
              "      <th>PaymentMethod</th>\n",
              "      <th>MonthlyCharges</th>\n",
              "      <th>TotalCharges</th>\n",
              "      <th>Churn</th>\n",
              "      <th>MultipleLines</th>\n",
              "      <th>InternetService</th>\n",
              "      <th>OnlineSecurity</th>\n",
              "      <th>OnlineBackup</th>\n",
              "      <th>DeviceProtection</th>\n",
              "      <th>TechSupport</th>\n",
              "      <th>StreamingTV</th>\n",
              "      <th>StreamingMovies</th>\n",
              "    </tr>\n",
              "  </thead>\n",
              "  <tbody>\n",
              "    <tr>\n",
              "      <th>1441</th>\n",
              "      <td>2480-EJWYP</td>\n",
              "      <td>58</td>\n",
              "      <td>Yes</td>\n",
              "      <td>One year</td>\n",
              "      <td>Yes</td>\n",
              "      <td>Bank transfer (automatic)</td>\n",
              "      <td>97.80</td>\n",
              "      <td>5458.8</td>\n",
              "      <td>No</td>\n",
              "      <td>Yes</td>\n",
              "      <td>Fiber optic</td>\n",
              "      <td>No</td>\n",
              "      <td>Yes</td>\n",
              "      <td>No</td>\n",
              "      <td>No</td>\n",
              "      <td>Yes</td>\n",
              "      <td>Yes</td>\n",
              "    </tr>\n",
              "    <tr>\n",
              "      <th>235</th>\n",
              "      <td>1251-KRREG</td>\n",
              "      <td>2</td>\n",
              "      <td>Yes</td>\n",
              "      <td>Month-to-month</td>\n",
              "      <td>Yes</td>\n",
              "      <td>Mailed check</td>\n",
              "      <td>54.40</td>\n",
              "      <td>114.1</td>\n",
              "      <td>Yes</td>\n",
              "      <td>Yes</td>\n",
              "      <td>DSL</td>\n",
              "      <td>No</td>\n",
              "      <td>Yes</td>\n",
              "      <td>No</td>\n",
              "      <td>No</td>\n",
              "      <td>No</td>\n",
              "      <td>No</td>\n",
              "    </tr>\n",
              "    <tr>\n",
              "      <th>3658</th>\n",
              "      <td>3604-WLABM</td>\n",
              "      <td>10</td>\n",
              "      <td>Yes</td>\n",
              "      <td>Month-to-month</td>\n",
              "      <td>No</td>\n",
              "      <td>Electronic check</td>\n",
              "      <td>54.25</td>\n",
              "      <td>583</td>\n",
              "      <td>No</td>\n",
              "      <td>No</td>\n",
              "      <td>DSL</td>\n",
              "      <td>No</td>\n",
              "      <td>No</td>\n",
              "      <td>Yes</td>\n",
              "      <td>Yes</td>\n",
              "      <td>No</td>\n",
              "      <td>No</td>\n",
              "    </tr>\n",
              "    <tr>\n",
              "      <th>5531</th>\n",
              "      <td>2137-DQMEV</td>\n",
              "      <td>68</td>\n",
              "      <td>No</td>\n",
              "      <td>One year</td>\n",
              "      <td>No</td>\n",
              "      <td>Mailed check</td>\n",
              "      <td>44.80</td>\n",
              "      <td>2983.65</td>\n",
              "      <td>No</td>\n",
              "      <td>No phone service</td>\n",
              "      <td>DSL</td>\n",
              "      <td>Yes</td>\n",
              "      <td>Yes</td>\n",
              "      <td>No</td>\n",
              "      <td>No</td>\n",
              "      <td>Yes</td>\n",
              "      <td>No</td>\n",
              "    </tr>\n",
              "    <tr>\n",
              "      <th>120</th>\n",
              "      <td>1091-SOZGA</td>\n",
              "      <td>56</td>\n",
              "      <td>Yes</td>\n",
              "      <td>One year</td>\n",
              "      <td>Yes</td>\n",
              "      <td>Credit card (automatic)</td>\n",
              "      <td>99.80</td>\n",
              "      <td>5515.45</td>\n",
              "      <td>No</td>\n",
              "      <td>Yes</td>\n",
              "      <td>Fiber optic</td>\n",
              "      <td>No</td>\n",
              "      <td>No</td>\n",
              "      <td>Yes</td>\n",
              "      <td>No</td>\n",
              "      <td>Yes</td>\n",
              "      <td>Yes</td>\n",
              "    </tr>\n",
              "    <tr>\n",
              "      <th>3309</th>\n",
              "      <td>6061-PQHMK</td>\n",
              "      <td>25</td>\n",
              "      <td>Yes</td>\n",
              "      <td>One year</td>\n",
              "      <td>No</td>\n",
              "      <td>Credit card (automatic)</td>\n",
              "      <td>19.90</td>\n",
              "      <td>527.5</td>\n",
              "      <td>No</td>\n",
              "      <td>No</td>\n",
              "      <td>No</td>\n",
              "      <td>No internet service</td>\n",
              "      <td>No internet service</td>\n",
              "      <td>No internet service</td>\n",
              "      <td>No internet service</td>\n",
              "      <td>No internet service</td>\n",
              "      <td>No internet service</td>\n",
              "    </tr>\n",
              "    <tr>\n",
              "      <th>830</th>\n",
              "      <td>9101-BWFSS</td>\n",
              "      <td>50</td>\n",
              "      <td>Yes</td>\n",
              "      <td>One year</td>\n",
              "      <td>No</td>\n",
              "      <td>Electronic check</td>\n",
              "      <td>108.55</td>\n",
              "      <td>5610.7</td>\n",
              "      <td>Yes</td>\n",
              "      <td>Yes</td>\n",
              "      <td>Fiber optic</td>\n",
              "      <td>Yes</td>\n",
              "      <td>Yes</td>\n",
              "      <td>No</td>\n",
              "      <td>Yes</td>\n",
              "      <td>Yes</td>\n",
              "      <td>Yes</td>\n",
              "    </tr>\n",
              "    <tr>\n",
              "      <th>6982</th>\n",
              "      <td>8468-FZTOE</td>\n",
              "      <td>72</td>\n",
              "      <td>Yes</td>\n",
              "      <td>Two year</td>\n",
              "      <td>Yes</td>\n",
              "      <td>Electronic check</td>\n",
              "      <td>74.35</td>\n",
              "      <td>5237.4</td>\n",
              "      <td>No</td>\n",
              "      <td>No</td>\n",
              "      <td>DSL</td>\n",
              "      <td>Yes</td>\n",
              "      <td>Yes</td>\n",
              "      <td>Yes</td>\n",
              "      <td>Yes</td>\n",
              "      <td>No</td>\n",
              "      <td>Yes</td>\n",
              "    </tr>\n",
              "    <tr>\n",
              "      <th>2558</th>\n",
              "      <td>5380-XPJNZ</td>\n",
              "      <td>38</td>\n",
              "      <td>Yes</td>\n",
              "      <td>One year</td>\n",
              "      <td>No</td>\n",
              "      <td>Mailed check</td>\n",
              "      <td>20.05</td>\n",
              "      <td>678.2</td>\n",
              "      <td>No</td>\n",
              "      <td>No</td>\n",
              "      <td>No</td>\n",
              "      <td>No internet service</td>\n",
              "      <td>No internet service</td>\n",
              "      <td>No internet service</td>\n",
              "      <td>No internet service</td>\n",
              "      <td>No internet service</td>\n",
              "      <td>No internet service</td>\n",
              "    </tr>\n",
              "    <tr>\n",
              "      <th>6260</th>\n",
              "      <td>0458-HEUZG</td>\n",
              "      <td>13</td>\n",
              "      <td>No</td>\n",
              "      <td>Two year</td>\n",
              "      <td>No</td>\n",
              "      <td>Mailed check</td>\n",
              "      <td>35.40</td>\n",
              "      <td>450.4</td>\n",
              "      <td>No</td>\n",
              "      <td>No phone service</td>\n",
              "      <td>DSL</td>\n",
              "      <td>No</td>\n",
              "      <td>No</td>\n",
              "      <td>Yes</td>\n",
              "      <td>Yes</td>\n",
              "      <td>No</td>\n",
              "      <td>No</td>\n",
              "    </tr>\n",
              "  </tbody>\n",
              "</table>\n",
              "</div>"
            ],
            "text/plain": [
              "      customerID  tenure  ...          StreamingTV      StreamingMovies\n",
              "1441  2480-EJWYP      58  ...                  Yes                  Yes\n",
              "235   1251-KRREG       2  ...                   No                   No\n",
              "3658  3604-WLABM      10  ...                   No                   No\n",
              "5531  2137-DQMEV      68  ...                  Yes                   No\n",
              "120   1091-SOZGA      56  ...                  Yes                  Yes\n",
              "3309  6061-PQHMK      25  ...  No internet service  No internet service\n",
              "830   9101-BWFSS      50  ...                  Yes                  Yes\n",
              "6982  8468-FZTOE      72  ...                   No                  Yes\n",
              "2558  5380-XPJNZ      38  ...  No internet service  No internet service\n",
              "6260  0458-HEUZG      13  ...                   No                   No\n",
              "\n",
              "[10 rows x 17 columns]"
            ]
          },
          "metadata": {
            "tags": []
          },
          "execution_count": 25
        }
      ]
    },
    {
      "cell_type": "code",
      "metadata": {
        "id": "OgTrtxKmXZQA",
        "colab": {
          "base_uri": "https://localhost:8080/",
          "height": 549
        },
        "outputId": "7fa04ab6-df1d-45b1-cbc6-ca36edc090d9"
      },
      "source": [
        "churn = pd.merge(churn,\n",
        "                 customer_data,\n",
        "                 on=\"customerID\")\n",
        "\n",
        "churn.sample(10)"
      ],
      "execution_count": 26,
      "outputs": [
        {
          "output_type": "execute_result",
          "data": {
            "text/html": [
              "<div>\n",
              "<style scoped>\n",
              "    .dataframe tbody tr th:only-of-type {\n",
              "        vertical-align: middle;\n",
              "    }\n",
              "\n",
              "    .dataframe tbody tr th {\n",
              "        vertical-align: top;\n",
              "    }\n",
              "\n",
              "    .dataframe thead th {\n",
              "        text-align: right;\n",
              "    }\n",
              "</style>\n",
              "<table border=\"1\" class=\"dataframe\">\n",
              "  <thead>\n",
              "    <tr style=\"text-align: right;\">\n",
              "      <th></th>\n",
              "      <th>customerID</th>\n",
              "      <th>tenure</th>\n",
              "      <th>PhoneService</th>\n",
              "      <th>Contract</th>\n",
              "      <th>PaperlessBilling</th>\n",
              "      <th>PaymentMethod</th>\n",
              "      <th>MonthlyCharges</th>\n",
              "      <th>TotalCharges</th>\n",
              "      <th>Churn</th>\n",
              "      <th>MultipleLines</th>\n",
              "      <th>InternetService</th>\n",
              "      <th>OnlineSecurity</th>\n",
              "      <th>OnlineBackup</th>\n",
              "      <th>DeviceProtection</th>\n",
              "      <th>TechSupport</th>\n",
              "      <th>StreamingTV</th>\n",
              "      <th>StreamingMovies</th>\n",
              "      <th>gender</th>\n",
              "      <th>SeniorCitizen</th>\n",
              "      <th>Partner</th>\n",
              "      <th>Dependents</th>\n",
              "    </tr>\n",
              "  </thead>\n",
              "  <tbody>\n",
              "    <tr>\n",
              "      <th>6217</th>\n",
              "      <td>1599-MMYRQ</td>\n",
              "      <td>62</td>\n",
              "      <td>Yes</td>\n",
              "      <td>One year</td>\n",
              "      <td>Yes</td>\n",
              "      <td>Credit card (automatic)</td>\n",
              "      <td>81.45</td>\n",
              "      <td>4983.05</td>\n",
              "      <td>No</td>\n",
              "      <td>No</td>\n",
              "      <td>Fiber optic</td>\n",
              "      <td>Yes</td>\n",
              "      <td>Yes</td>\n",
              "      <td>No</td>\n",
              "      <td>No</td>\n",
              "      <td>No</td>\n",
              "      <td>No</td>\n",
              "      <td>Male</td>\n",
              "      <td>0</td>\n",
              "      <td>Yes</td>\n",
              "      <td>Yes</td>\n",
              "    </tr>\n",
              "    <tr>\n",
              "      <th>4951</th>\n",
              "      <td>5117-IFGPS</td>\n",
              "      <td>29</td>\n",
              "      <td>Yes</td>\n",
              "      <td>Month-to-month</td>\n",
              "      <td>Yes</td>\n",
              "      <td>Electronic check</td>\n",
              "      <td>84.30</td>\n",
              "      <td>2357.75</td>\n",
              "      <td>No</td>\n",
              "      <td>Yes</td>\n",
              "      <td>Fiber optic</td>\n",
              "      <td>No</td>\n",
              "      <td>No</td>\n",
              "      <td>No</td>\n",
              "      <td>No</td>\n",
              "      <td>No</td>\n",
              "      <td>Yes</td>\n",
              "      <td>Male</td>\n",
              "      <td>1</td>\n",
              "      <td>Yes</td>\n",
              "      <td>No</td>\n",
              "    </tr>\n",
              "    <tr>\n",
              "      <th>5068</th>\n",
              "      <td>6892-BOGQE</td>\n",
              "      <td>71</td>\n",
              "      <td>Yes</td>\n",
              "      <td>Two year</td>\n",
              "      <td>Yes</td>\n",
              "      <td>Bank transfer (automatic)</td>\n",
              "      <td>20.90</td>\n",
              "      <td>1493.2</td>\n",
              "      <td>No</td>\n",
              "      <td>No</td>\n",
              "      <td>No</td>\n",
              "      <td>No internet service</td>\n",
              "      <td>No internet service</td>\n",
              "      <td>No internet service</td>\n",
              "      <td>No internet service</td>\n",
              "      <td>No internet service</td>\n",
              "      <td>No internet service</td>\n",
              "      <td>Female</td>\n",
              "      <td>0</td>\n",
              "      <td>Yes</td>\n",
              "      <td>No</td>\n",
              "    </tr>\n",
              "    <tr>\n",
              "      <th>2041</th>\n",
              "      <td>3546-GHEAE</td>\n",
              "      <td>7</td>\n",
              "      <td>Yes</td>\n",
              "      <td>Two year</td>\n",
              "      <td>No</td>\n",
              "      <td>Mailed check</td>\n",
              "      <td>19.45</td>\n",
              "      <td>165.35</td>\n",
              "      <td>No</td>\n",
              "      <td>No</td>\n",
              "      <td>No</td>\n",
              "      <td>No internet service</td>\n",
              "      <td>No internet service</td>\n",
              "      <td>No internet service</td>\n",
              "      <td>No internet service</td>\n",
              "      <td>No internet service</td>\n",
              "      <td>No internet service</td>\n",
              "      <td>Male</td>\n",
              "      <td>0</td>\n",
              "      <td>No</td>\n",
              "      <td>No</td>\n",
              "    </tr>\n",
              "    <tr>\n",
              "      <th>5557</th>\n",
              "      <td>6918-UMQCG</td>\n",
              "      <td>5</td>\n",
              "      <td>Yes</td>\n",
              "      <td>Month-to-month</td>\n",
              "      <td>No</td>\n",
              "      <td>Electronic check</td>\n",
              "      <td>80.20</td>\n",
              "      <td>384.25</td>\n",
              "      <td>No</td>\n",
              "      <td>No</td>\n",
              "      <td>Fiber optic</td>\n",
              "      <td>No</td>\n",
              "      <td>No</td>\n",
              "      <td>No</td>\n",
              "      <td>No</td>\n",
              "      <td>Yes</td>\n",
              "      <td>No</td>\n",
              "      <td>Female</td>\n",
              "      <td>0</td>\n",
              "      <td>No</td>\n",
              "      <td>No</td>\n",
              "    </tr>\n",
              "    <tr>\n",
              "      <th>6794</th>\n",
              "      <td>1047-RNXZV</td>\n",
              "      <td>43</td>\n",
              "      <td>Yes</td>\n",
              "      <td>Two year</td>\n",
              "      <td>No</td>\n",
              "      <td>Mailed check</td>\n",
              "      <td>19.55</td>\n",
              "      <td>876.15</td>\n",
              "      <td>No</td>\n",
              "      <td>No</td>\n",
              "      <td>No</td>\n",
              "      <td>No internet service</td>\n",
              "      <td>No internet service</td>\n",
              "      <td>No internet service</td>\n",
              "      <td>No internet service</td>\n",
              "      <td>No internet service</td>\n",
              "      <td>No internet service</td>\n",
              "      <td>Male</td>\n",
              "      <td>0</td>\n",
              "      <td>No</td>\n",
              "      <td>No</td>\n",
              "    </tr>\n",
              "    <tr>\n",
              "      <th>6741</th>\n",
              "      <td>2180-DXNEG</td>\n",
              "      <td>12</td>\n",
              "      <td>Yes</td>\n",
              "      <td>Month-to-month</td>\n",
              "      <td>Yes</td>\n",
              "      <td>Electronic check</td>\n",
              "      <td>96.00</td>\n",
              "      <td>1062.1</td>\n",
              "      <td>Yes</td>\n",
              "      <td>No</td>\n",
              "      <td>Fiber optic</td>\n",
              "      <td>No</td>\n",
              "      <td>No</td>\n",
              "      <td>Yes</td>\n",
              "      <td>No</td>\n",
              "      <td>Yes</td>\n",
              "      <td>Yes</td>\n",
              "      <td>Female</td>\n",
              "      <td>0</td>\n",
              "      <td>No</td>\n",
              "      <td>No</td>\n",
              "    </tr>\n",
              "    <tr>\n",
              "      <th>2043</th>\n",
              "      <td>6557-BZXLQ</td>\n",
              "      <td>16</td>\n",
              "      <td>Yes</td>\n",
              "      <td>Month-to-month</td>\n",
              "      <td>No</td>\n",
              "      <td>Electronic check</td>\n",
              "      <td>69.65</td>\n",
              "      <td>1043.3</td>\n",
              "      <td>No</td>\n",
              "      <td>No</td>\n",
              "      <td>Fiber optic</td>\n",
              "      <td>No</td>\n",
              "      <td>No</td>\n",
              "      <td>No</td>\n",
              "      <td>No</td>\n",
              "      <td>No</td>\n",
              "      <td>No</td>\n",
              "      <td>Male</td>\n",
              "      <td>1</td>\n",
              "      <td>No</td>\n",
              "      <td>No</td>\n",
              "    </tr>\n",
              "    <tr>\n",
              "      <th>2363</th>\n",
              "      <td>4373-VVHQL</td>\n",
              "      <td>1</td>\n",
              "      <td>Yes</td>\n",
              "      <td>Month-to-month</td>\n",
              "      <td>Yes</td>\n",
              "      <td>Electronic check</td>\n",
              "      <td>44.75</td>\n",
              "      <td>44.75</td>\n",
              "      <td>No</td>\n",
              "      <td>No</td>\n",
              "      <td>DSL</td>\n",
              "      <td>No</td>\n",
              "      <td>No</td>\n",
              "      <td>No</td>\n",
              "      <td>No</td>\n",
              "      <td>No</td>\n",
              "      <td>No</td>\n",
              "      <td>Male</td>\n",
              "      <td>0</td>\n",
              "      <td>No</td>\n",
              "      <td>No</td>\n",
              "    </tr>\n",
              "    <tr>\n",
              "      <th>4983</th>\n",
              "      <td>1862-SKORY</td>\n",
              "      <td>40</td>\n",
              "      <td>No</td>\n",
              "      <td>Month-to-month</td>\n",
              "      <td>Yes</td>\n",
              "      <td>Electronic check</td>\n",
              "      <td>39.30</td>\n",
              "      <td>1637.4</td>\n",
              "      <td>Yes</td>\n",
              "      <td>No phone service</td>\n",
              "      <td>DSL</td>\n",
              "      <td>No</td>\n",
              "      <td>Yes</td>\n",
              "      <td>No</td>\n",
              "      <td>No</td>\n",
              "      <td>Yes</td>\n",
              "      <td>No</td>\n",
              "      <td>Female</td>\n",
              "      <td>1</td>\n",
              "      <td>Yes</td>\n",
              "      <td>No</td>\n",
              "    </tr>\n",
              "  </tbody>\n",
              "</table>\n",
              "</div>"
            ],
            "text/plain": [
              "      customerID  tenure PhoneService  ... SeniorCitizen Partner Dependents\n",
              "6217  1599-MMYRQ      62          Yes  ...             0     Yes        Yes\n",
              "4951  5117-IFGPS      29          Yes  ...             1     Yes         No\n",
              "5068  6892-BOGQE      71          Yes  ...             0     Yes         No\n",
              "2041  3546-GHEAE       7          Yes  ...             0      No         No\n",
              "5557  6918-UMQCG       5          Yes  ...             0      No         No\n",
              "6794  1047-RNXZV      43          Yes  ...             0      No         No\n",
              "6741  2180-DXNEG      12          Yes  ...             0      No         No\n",
              "2043  6557-BZXLQ      16          Yes  ...             1      No         No\n",
              "2363  4373-VVHQL       1          Yes  ...             0      No         No\n",
              "4983  1862-SKORY      40           No  ...             1     Yes         No\n",
              "\n",
              "[10 rows x 21 columns]"
            ]
          },
          "metadata": {
            "tags": []
          },
          "execution_count": 26
        }
      ]
    },
    {
      "cell_type": "code",
      "metadata": {
        "id": "ayqr3BSMSNtD",
        "colab": {
          "base_uri": "https://localhost:8080/"
        },
        "outputId": "840a932c-0d43-4bbd-a3fa-80679bd4629b"
      },
      "source": [
        "# Existem features no nosso dataset que estão no formato object\n",
        "# Vamos precisar usar um Encoder\n",
        "\n",
        "churn.info()"
      ],
      "execution_count": 27,
      "outputs": [
        {
          "output_type": "stream",
          "text": [
            "<class 'pandas.core.frame.DataFrame'>\n",
            "Int64Index: 7043 entries, 0 to 7042\n",
            "Data columns (total 21 columns):\n",
            " #   Column            Non-Null Count  Dtype  \n",
            "---  ------            --------------  -----  \n",
            " 0   customerID        7043 non-null   object \n",
            " 1   tenure            7043 non-null   int64  \n",
            " 2   PhoneService      7043 non-null   object \n",
            " 3   Contract          7043 non-null   object \n",
            " 4   PaperlessBilling  7043 non-null   object \n",
            " 5   PaymentMethod     7043 non-null   object \n",
            " 6   MonthlyCharges    7043 non-null   float64\n",
            " 7   TotalCharges      7043 non-null   object \n",
            " 8   Churn             7043 non-null   object \n",
            " 9   MultipleLines     7043 non-null   object \n",
            " 10  InternetService   7043 non-null   object \n",
            " 11  OnlineSecurity    7043 non-null   object \n",
            " 12  OnlineBackup      7043 non-null   object \n",
            " 13  DeviceProtection  7043 non-null   object \n",
            " 14  TechSupport       7043 non-null   object \n",
            " 15  StreamingTV       7043 non-null   object \n",
            " 16  StreamingMovies   7043 non-null   object \n",
            " 17  gender            7043 non-null   object \n",
            " 18  SeniorCitizen     7043 non-null   int64  \n",
            " 19  Partner           7043 non-null   object \n",
            " 20  Dependents        7043 non-null   object \n",
            "dtypes: float64(1), int64(2), object(18)\n",
            "memory usage: 1.2+ MB\n"
          ],
          "name": "stdout"
        }
      ]
    },
    {
      "cell_type": "code",
      "metadata": {
        "id": "Tf-NVgRHZIvd"
      },
      "source": [
        "# Aplicando o Label Encoder\n",
        "\n",
        "le = preprocessing.LabelEncoder()\n",
        "churn = churn.apply(le.fit_transform)"
      ],
      "execution_count": 28,
      "outputs": []
    },
    {
      "cell_type": "code",
      "metadata": {
        "id": "Y3Gyut7lZba-"
      },
      "source": [
        "# A coluna \"TotalCharges\" possui valor numéricos, porém está em formato object\n",
        "# Transformando em float64\n",
        "\n",
        "churn['TotalCharges'] = pd.to_numeric(churn['TotalCharges'], errors='coerce')"
      ],
      "execution_count": 29,
      "outputs": []
    },
    {
      "cell_type": "code",
      "metadata": {
        "id": "4FnhU30cZ8f4"
      },
      "source": [
        "# A coluna \"customerID\" não será relevante\n",
        "# Excluíndo-a\n",
        "\n",
        "churn.drop(churn[['customerID']], axis=1, inplace=True)"
      ],
      "execution_count": 30,
      "outputs": []
    },
    {
      "cell_type": "code",
      "metadata": {
        "colab": {
          "base_uri": "https://localhost:8080/",
          "height": 224
        },
        "id": "OSz01O_jaFn8",
        "outputId": "ee405b52-784c-431a-ac1f-551073672322"
      },
      "source": [
        "# Verificando se os dados estão no formato correto\n",
        "\n",
        "churn.head()"
      ],
      "execution_count": 31,
      "outputs": [
        {
          "output_type": "execute_result",
          "data": {
            "text/html": [
              "<div>\n",
              "<style scoped>\n",
              "    .dataframe tbody tr th:only-of-type {\n",
              "        vertical-align: middle;\n",
              "    }\n",
              "\n",
              "    .dataframe tbody tr th {\n",
              "        vertical-align: top;\n",
              "    }\n",
              "\n",
              "    .dataframe thead th {\n",
              "        text-align: right;\n",
              "    }\n",
              "</style>\n",
              "<table border=\"1\" class=\"dataframe\">\n",
              "  <thead>\n",
              "    <tr style=\"text-align: right;\">\n",
              "      <th></th>\n",
              "      <th>tenure</th>\n",
              "      <th>PhoneService</th>\n",
              "      <th>Contract</th>\n",
              "      <th>PaperlessBilling</th>\n",
              "      <th>PaymentMethod</th>\n",
              "      <th>MonthlyCharges</th>\n",
              "      <th>TotalCharges</th>\n",
              "      <th>Churn</th>\n",
              "      <th>MultipleLines</th>\n",
              "      <th>InternetService</th>\n",
              "      <th>OnlineSecurity</th>\n",
              "      <th>OnlineBackup</th>\n",
              "      <th>DeviceProtection</th>\n",
              "      <th>TechSupport</th>\n",
              "      <th>StreamingTV</th>\n",
              "      <th>StreamingMovies</th>\n",
              "      <th>gender</th>\n",
              "      <th>SeniorCitizen</th>\n",
              "      <th>Partner</th>\n",
              "      <th>Dependents</th>\n",
              "    </tr>\n",
              "  </thead>\n",
              "  <tbody>\n",
              "    <tr>\n",
              "      <th>0</th>\n",
              "      <td>1</td>\n",
              "      <td>0</td>\n",
              "      <td>0</td>\n",
              "      <td>1</td>\n",
              "      <td>2</td>\n",
              "      <td>142</td>\n",
              "      <td>2505</td>\n",
              "      <td>0</td>\n",
              "      <td>1</td>\n",
              "      <td>0</td>\n",
              "      <td>0</td>\n",
              "      <td>2</td>\n",
              "      <td>0</td>\n",
              "      <td>0</td>\n",
              "      <td>0</td>\n",
              "      <td>0</td>\n",
              "      <td>0</td>\n",
              "      <td>0</td>\n",
              "      <td>1</td>\n",
              "      <td>0</td>\n",
              "    </tr>\n",
              "    <tr>\n",
              "      <th>1</th>\n",
              "      <td>34</td>\n",
              "      <td>1</td>\n",
              "      <td>1</td>\n",
              "      <td>0</td>\n",
              "      <td>3</td>\n",
              "      <td>498</td>\n",
              "      <td>1466</td>\n",
              "      <td>0</td>\n",
              "      <td>0</td>\n",
              "      <td>0</td>\n",
              "      <td>2</td>\n",
              "      <td>0</td>\n",
              "      <td>2</td>\n",
              "      <td>0</td>\n",
              "      <td>0</td>\n",
              "      <td>0</td>\n",
              "      <td>1</td>\n",
              "      <td>0</td>\n",
              "      <td>0</td>\n",
              "      <td>0</td>\n",
              "    </tr>\n",
              "    <tr>\n",
              "      <th>2</th>\n",
              "      <td>2</td>\n",
              "      <td>1</td>\n",
              "      <td>0</td>\n",
              "      <td>1</td>\n",
              "      <td>3</td>\n",
              "      <td>436</td>\n",
              "      <td>157</td>\n",
              "      <td>1</td>\n",
              "      <td>0</td>\n",
              "      <td>0</td>\n",
              "      <td>2</td>\n",
              "      <td>2</td>\n",
              "      <td>0</td>\n",
              "      <td>0</td>\n",
              "      <td>0</td>\n",
              "      <td>0</td>\n",
              "      <td>1</td>\n",
              "      <td>0</td>\n",
              "      <td>0</td>\n",
              "      <td>0</td>\n",
              "    </tr>\n",
              "    <tr>\n",
              "      <th>3</th>\n",
              "      <td>45</td>\n",
              "      <td>0</td>\n",
              "      <td>1</td>\n",
              "      <td>0</td>\n",
              "      <td>0</td>\n",
              "      <td>266</td>\n",
              "      <td>1400</td>\n",
              "      <td>0</td>\n",
              "      <td>1</td>\n",
              "      <td>0</td>\n",
              "      <td>2</td>\n",
              "      <td>0</td>\n",
              "      <td>2</td>\n",
              "      <td>2</td>\n",
              "      <td>0</td>\n",
              "      <td>0</td>\n",
              "      <td>1</td>\n",
              "      <td>0</td>\n",
              "      <td>0</td>\n",
              "      <td>0</td>\n",
              "    </tr>\n",
              "    <tr>\n",
              "      <th>4</th>\n",
              "      <td>2</td>\n",
              "      <td>1</td>\n",
              "      <td>0</td>\n",
              "      <td>1</td>\n",
              "      <td>2</td>\n",
              "      <td>729</td>\n",
              "      <td>925</td>\n",
              "      <td>1</td>\n",
              "      <td>0</td>\n",
              "      <td>1</td>\n",
              "      <td>0</td>\n",
              "      <td>0</td>\n",
              "      <td>0</td>\n",
              "      <td>0</td>\n",
              "      <td>0</td>\n",
              "      <td>0</td>\n",
              "      <td>0</td>\n",
              "      <td>0</td>\n",
              "      <td>0</td>\n",
              "      <td>0</td>\n",
              "    </tr>\n",
              "  </tbody>\n",
              "</table>\n",
              "</div>"
            ],
            "text/plain": [
              "   tenure  PhoneService  Contract  ...  SeniorCitizen  Partner  Dependents\n",
              "0       1             0         0  ...              0        1           0\n",
              "1      34             1         1  ...              0        0           0\n",
              "2       2             1         0  ...              0        0           0\n",
              "3      45             0         1  ...              0        0           0\n",
              "4       2             1         0  ...              0        0           0\n",
              "\n",
              "[5 rows x 20 columns]"
            ]
          },
          "metadata": {
            "tags": []
          },
          "execution_count": 31
        }
      ]
    },
    {
      "cell_type": "code",
      "metadata": {
        "id": "vo2eaJ2VaTaq"
      },
      "source": [
        "# Separando os dados da feature alvo \"Churn\" e separando em dados de treino e teste\n",
        "\n",
        "X_train, X_test, y_train, y_test = train_test_split(churn.drop('Churn',axis=1), churn['Churn'],test_size=0.3)"
      ],
      "execution_count": 32,
      "outputs": []
    },
    {
      "cell_type": "code",
      "metadata": {
        "colab": {
          "base_uri": "https://localhost:8080/"
        },
        "id": "AVFoJ1dLaeuL",
        "outputId": "173a27bd-b344-483b-9cfa-a7f58388c76b"
      },
      "source": [
        "X_train.shape,X_test.shape"
      ],
      "execution_count": 33,
      "outputs": [
        {
          "output_type": "execute_result",
          "data": {
            "text/plain": [
              "((4930, 19), (2113, 19))"
            ]
          },
          "metadata": {
            "tags": []
          },
          "execution_count": 33
        }
      ]
    },
    {
      "cell_type": "code",
      "metadata": {
        "colab": {
          "base_uri": "https://localhost:8080/"
        },
        "id": "oDBw2cRKae6E",
        "outputId": "48122919-c920-4291-bf29-81e4b78e2900"
      },
      "source": [
        "y_train.shape,y_test.shape"
      ],
      "execution_count": 34,
      "outputs": [
        {
          "output_type": "execute_result",
          "data": {
            "text/plain": [
              "((4930,), (2113,))"
            ]
          },
          "metadata": {
            "tags": []
          },
          "execution_count": 34
        }
      ]
    },
    {
      "cell_type": "code",
      "metadata": {
        "id": "aUr8cdl4ali8"
      },
      "source": [
        "# Instânciando o classificador\n",
        "\n",
        "clf = DecisionTreeClassifier()"
      ],
      "execution_count": 35,
      "outputs": []
    },
    {
      "cell_type": "code",
      "metadata": {
        "id": "2NdqaQWpalsd"
      },
      "source": [
        "# Treinando os dados de treino\n",
        "\n",
        "clf = clf.fit(X_train,y_train)"
      ],
      "execution_count": 36,
      "outputs": []
    },
    {
      "cell_type": "code",
      "metadata": {
        "colab": {
          "base_uri": "https://localhost:8080/"
        },
        "id": "2bN-frnRal_Z",
        "outputId": "96c2f060-8534-439c-f6da-514195dcf2bc"
      },
      "source": [
        "# Visualizando a importância das features pro modelo\n",
        "\n",
        "for feature,importancia in zip(churn.columns,clf.feature_importances_):\n",
        "    print(\"{}:{}\".format(feature, importancia))"
      ],
      "execution_count": 37,
      "outputs": [
        {
          "output_type": "stream",
          "text": [
            "tenure:0.11925683874731272\n",
            "PhoneService:0.0034096481753525454\n",
            "Contract:0.16516230759800596\n",
            "PaperlessBilling:0.02416637322362865\n",
            "PaymentMethod:0.04046086364011241\n",
            "MonthlyCharges:0.20394799803081523\n",
            "TotalCharges:0.1892404630981631\n",
            "Churn:0.011053823688692012\n",
            "MultipleLines:0.025095856528741023\n",
            "InternetService:0.043679890307490206\n",
            "OnlineSecurity:0.015387850600522692\n",
            "OnlineBackup:0.01688784522725534\n",
            "DeviceProtection:0.014773125975904777\n",
            "TechSupport:0.01571932793368321\n",
            "StreamingTV:0.011739450088735367\n",
            "StreamingMovies:0.023110959477633565\n",
            "gender:0.02085465089238206\n",
            "SeniorCitizen:0.026748364985646426\n",
            "Partner:0.02930436177992289\n"
          ],
          "name": "stdout"
        }
      ]
    },
    {
      "cell_type": "code",
      "metadata": {
        "colab": {
          "base_uri": "https://localhost:8080/"
        },
        "id": "jgwfm1MCamHV",
        "outputId": "a733bbd0-b666-40c9-b121-3ab9f093cfb1"
      },
      "source": [
        "# Fazendo a predição nos dados de teste\n",
        "\n",
        "resultado = clf.predict(X_test)\n",
        "resultado"
      ],
      "execution_count": 38,
      "outputs": [
        {
          "output_type": "execute_result",
          "data": {
            "text/plain": [
              "array([1, 0, 0, ..., 0, 0, 0])"
            ]
          },
          "metadata": {
            "tags": []
          },
          "execution_count": 38
        }
      ]
    },
    {
      "cell_type": "code",
      "metadata": {
        "colab": {
          "base_uri": "https://localhost:8080/"
        },
        "id": "7TUhgVaEbFDO",
        "outputId": "3abd44dd-0dee-4994-fcdf-d0369c116e4d"
      },
      "source": [
        "# Visualizando a acurácia, precisão, recall, f1-score e support\n",
        "\n",
        "print(metrics.classification_report(y_test,resultado))"
      ],
      "execution_count": 39,
      "outputs": [
        {
          "output_type": "stream",
          "text": [
            "              precision    recall  f1-score   support\n",
            "\n",
            "           0       0.82      0.81      0.82      1536\n",
            "           1       0.51      0.52      0.52       577\n",
            "\n",
            "    accuracy                           0.73      2113\n",
            "   macro avg       0.67      0.67      0.67      2113\n",
            "weighted avg       0.74      0.73      0.73      2113\n",
            "\n"
          ],
          "name": "stdout"
        }
      ]
    },
    {
      "cell_type": "markdown",
      "metadata": {
        "id": "1QzpguXXZEmV"
      },
      "source": [
        "#Off"
      ]
    },
    {
      "cell_type": "code",
      "metadata": {
        "id": "BD-q8gpYkckE"
      },
      "source": [
        "# STREAMLIT API\n",
        "\n",
        "!pip install streamlit\n",
        "\n",
        "!pip install pyngrok==4.1.1"
      ],
      "execution_count": null,
      "outputs": []
    },
    {
      "cell_type": "code",
      "metadata": {
        "id": "ew-HsETkKxFU",
        "colab": {
          "base_uri": "https://localhost:8080/"
        },
        "outputId": "ad438f69-4000-4f3e-8fb2-acb0d4c49a2d"
      },
      "source": [
        "!ngrok"
      ],
      "execution_count": 41,
      "outputs": [
        {
          "output_type": "stream",
          "text": [
            "NAME:\n",
            "   ngrok - tunnel local ports to public URLs and inspect traffic\n",
            "\n",
            "DESCRIPTION:\n",
            "    ngrok exposes local networked services behinds NATs and firewalls to the\n",
            "    public internet over a secure tunnel. Share local websites, build/test\n",
            "    webhook consumers and self-host personal services.\n",
            "    Detailed help for each command is available with 'ngrok help <command>'.\n",
            "    Open http://localhost:4040 for ngrok's web interface to inspect traffic.\n",
            "\n",
            "EXAMPLES:\n",
            "    ngrok http 80                    # secure public URL for port 80 web server\n",
            "    ngrok http -subdomain=baz 8080   # port 8080 available at baz.ngrok.io\n",
            "    ngrok http foo.dev:80            # tunnel to host:port instead of localhost\n",
            "    ngrok http https://localhost     # expose a local https server\n",
            "    ngrok tcp 22                     # tunnel arbitrary TCP traffic to port 22\n",
            "    ngrok tls -hostname=foo.com 443  # TLS traffic for foo.com to port 443\n",
            "    ngrok start foo bar baz          # start tunnels from the configuration file\n",
            "\n",
            "VERSION:\n",
            "   2.3.40\n",
            "\n",
            "AUTHOR:\n",
            "  inconshreveable - <alan@ngrok.com>\n",
            "\n",
            "COMMANDS:\n",
            "   authtoken\tsave authtoken to configuration file\n",
            "   credits\tprints author and licensing information\n",
            "   http\t\tstart an HTTP tunnel\n",
            "   start\tstart tunnels by name from the configuration file\n",
            "   tcp\t\tstart a TCP tunnel\n",
            "   tls\t\tstart a TLS tunnel\n",
            "   update\tupdate ngrok to the latest version\n",
            "   version\tprint the version string\n",
            "   help\t\tShows a list of commands or help for one command\n",
            "\n",
            "PYNGROK VERSION:\n",
            "   4.1.1\n"
          ],
          "name": "stdout"
        }
      ]
    },
    {
      "cell_type": "code",
      "metadata": {
        "colab": {
          "base_uri": "https://localhost:8080/"
        },
        "id": "yQU07RPWElXk",
        "outputId": "aebabf03-77b7-4b0d-ee7e-8d0b2cfaa17d"
      },
      "source": [
        "%%writefile app.py\n",
        "import streamlit as st\n",
        "import pandas as pd\n",
        "from sklearn.tree import DecisionTreeClassifier,export_graphviz\n",
        "from sklearn.model_selection import train_test_split\n",
        "from sklearn import metrics\n",
        "from sklearn.metrics import accuracy_score, classification_report, confusion_matrix\n",
        "import numpy as np\n",
        "from sklearn.preprocessing import LabelEncoder\n",
        "\n",
        "\n",
        "@st.cache(allow_output_mutation=True)\n",
        "def loadData():\n",
        "    churn = pd.read_csv(\"/content/drive/MyDrive/df_churn\")\n",
        "    return churn\n",
        "\n",
        "\n",
        "def preprocessing(churn):\n",
        "    X = churn[['gender',\n",
        "                        'SeniorCitizen',\n",
        "                        'Partner',\n",
        "                        'Dependents',\n",
        "                        'tenure',\n",
        "                        'PhoneService',\n",
        "                        'Contract',\n",
        "                        'PaperlessBilling',\n",
        "                        'PaymentMethod',\n",
        "                        'MonthlyCharges',\n",
        "                        'TotalCharges',\n",
        "                        'MultipleLines',\n",
        "                        'InternetService',\n",
        "                        'OnlineSecurity',\n",
        "                        'OnlineBackup',\n",
        "                        'DeviceProtection',\n",
        "                        'TechSupport',\n",
        "                        'StreamingTV',\n",
        "                        'StreamingMovies']]\n",
        "    y = churn['Churn']\n",
        "\n",
        "    le = LabelEncoder()\n",
        "    churn = churn.apply(le.fit_transform)\n",
        "\n",
        "    X_train, X_test, y_train, y_test = train_test_split(X, y,test_size=0.3)\n",
        "    return X_train, X_test, y_train, y_test, le\n",
        "\n",
        "\n",
        "@st.cache(suppress_st_warning=True)\n",
        "def decisionTree(X_train, X_test, y_train, y_test):\n",
        "    tree = DecisionTreeClassifier(max_leaf_nodes=3, random_state=0)\n",
        "    tree.fit(X_train, y_train)\n",
        "    y_pred = tree.predict(X_test)\n",
        "    score = metrics.accuracy_score(y_test, y_pred) * 100\n",
        "    report = classification_report(y_test, y_pred)\n",
        "\n",
        "    return score, report, tree\n",
        "\n",
        "\n",
        "\n",
        "PAGE_CONFIG = {\"page_title\":\"Machine Learning\",\"page_icon\":\":smiley:\",\"layout\":\"centered\"}\n",
        "st.set_page_config(**PAGE_CONFIG)\n",
        "\n",
        "st.title(\"Previsão de Churn com Machine Learning\")\n",
        "st.subheader(\"Direto do Google Colab\")\n",
        "\n",
        "user_input = st.text_input(\"Digite o nome do cliente\")\n",
        "\n",
        "\n",
        "st.write(\"Cliente: \", user_input)\n",
        "\n",
        "def get_user_data():\n",
        "  gender = st.radio(\"Qual é o gênero?\", (\"Masculino\", \"Feminino\"), key=1)\n",
        "  SeniorCitizen = st.radio(\"É idoso?\", (\"Sim\", \"Não\"), key=2)\n",
        "  Partner = st.radio(\"É casado ou está em união estável?\", (\"Sim\", \"Não\"), key=3)\n",
        "  Dependents = st.radio(\"Possui dependentes? (Filhos ou pais aposentados)\", (\"Sim\", \"Não\"), key=4)\n",
        "  tenure = st.slider(\"Há quantos meses usa o serviço?\", min_value= 0, max_value= 100, step= 1, key=1)\n",
        "  PhoneService = st.radio(\"Possui serviço de telefone fixo junto com o serviço de internet?\", (\"Sim\", \"Não\"), key=5)\n",
        "  Contract = st.selectbox(\"Que tipo de contrato escolheu?\", [\"Mensal\", \"Anual\", \"Bianual\"], key=6)\n",
        "  PaperlessBilling = st.radio(\"A fatura é digital?\", (\"Sim\", \"Não\"), key=7)\n",
        "  PaymentMethod = st.selectbox(\"Método de pagamento\", [\"Cheque eletrônico\", \"Cheque enviado\", \"Débito em conta\", \"Cartão de crédito\"], key=8)\n",
        "  MonthlyCharges = st.number_input(\"Qual é o valor da fatura mensal? (ex: 73,85)\", key=1)\n",
        "  TotalCharges = st.number_input(\"Quanto é o valor total gasto na companhia? (ex: 1335,2)\", key=2)\n",
        "  MultipleLines = st.radio(\"Possui várias linhas de conectividade com a internet?\", (\"Sim\", \"Não\", \"Não possui linha\"), key=9)\n",
        "  InternetService = st.radio(\"O tipo de internet\", (\"Fibra ótica\", \"DSL\", \"Não possui internet\"), key=10)\n",
        "  OnlineSecurity = st.radio(\"Possui segurança online?\", (\"Sim\", \"Não\", \"Não possui internet\"), key=11)\n",
        "  OnlineBackup = st.radio(\"Possui backup online?\", (\"Sim\", \"Não\", \"Não possui internet\"), key=12)\n",
        "  DeviceProtection = st.radio(\"Possui proteção pro dispositivo?\", (\"Sim\", \"Não\", \"Não possui internet\"), key=13)\n",
        "  TechSupport = st.radio(\"Optou pelo suporte técnico?\", (\"Sim\", \"Não\", \"Não possui internet\"), key=14)\n",
        "  StreamingTV = st.radio(\"Possui serviço de streaming de televisão?\", (\"Sim\", \"Não\", \"Não possui internet\"), key=15)\n",
        "  StreamingMovies = st.radio(\"Possui serviço de streaming de filmes?\", (\"Sim\", \"Não\", \"Não possui internet\"), key=16)\n",
        "\n",
        "\n",
        "  user_data = np.array([gender,\n",
        "                        SeniorCitizen,\n",
        "                        Partner,\n",
        "                        Dependents,\n",
        "                        tenure,\n",
        "                        PhoneService,\n",
        "                        Contract,\n",
        "                        PaperlessBilling,\n",
        "                        PaymentMethod,\n",
        "                        MonthlyCharges,\n",
        "                        TotalCharges,\n",
        "                        MultipleLines,\n",
        "                        InternetService,\n",
        "                        OnlineSecurity,\n",
        "                        OnlineBackup,\n",
        "                        DeviceProtection,\n",
        "                        TechSupport,\n",
        "                        StreamingTV,\n",
        "                        StreamingMovies\n",
        "                        ]).reshape(1,-1)\n",
        "\n",
        "  features = pd.DataFrame(user_data, index = [0])\n",
        "\n",
        "  return features\n",
        "\n",
        "\n",
        "user_input_variables = get_user_data()\n",
        "\n",
        "st.subheader(\"Dados do usuário\")\n",
        "st.write(user_input_variables)\n",
        "\n",
        "\n",
        "def main():\n",
        "    st.title(\"Predizendo se o cliente entrará em churn!\")\n",
        "    data = loadData()\n",
        "    X_train, X_test, y_train, y_test, le = preprocessing(data)\n",
        "\n",
        "    score, report, tree = decisionTree(X_train, X_test, y_train, y_test)\n",
        "    st.text(\"A acurácia da Árvore de Decisão é: \")\n",
        "    st.write(score,\"%\")\n",
        "    \t\n",
        "    #le = LabelEncoder()   \n",
        "    pred = tree.predict(user_input_variables.apply(le.fit_transform))\n",
        "    st.write(\"A classe predita é: \", pred)\n",
        "\n",
        "if __name__ == \"__main__\":\n",
        "    main()"
      ],
      "execution_count": 42,
      "outputs": [
        {
          "output_type": "stream",
          "text": [
            "Overwriting app.py\n"
          ],
          "name": "stdout"
        }
      ]
    },
    {
      "cell_type": "code",
      "metadata": {
        "colab": {
          "base_uri": "https://localhost:8080/"
        },
        "id": "Mk56CzT5qBnW",
        "outputId": "1000190f-c6ba-48a0-f92f-e167bb3bbd30"
      },
      "source": [
        "!ngrok authtoken 1sfd7HX558YMVuhGqY651PMhrnd_eFi37HdygfzrUZCMUjLK"
      ],
      "execution_count": 43,
      "outputs": [
        {
          "output_type": "stream",
          "text": [
            "Authtoken saved to configuration file: /root/.ngrok2/ngrok.yml\n"
          ],
          "name": "stdout"
        }
      ]
    },
    {
      "cell_type": "code",
      "metadata": {
        "id": "F6s5U8KwFaKM"
      },
      "source": [
        "!streamlit run app.py &>/dev/null&"
      ],
      "execution_count": 44,
      "outputs": []
    },
    {
      "cell_type": "code",
      "metadata": {
        "id": "y71UDirBFeJU"
      },
      "source": [
        "from pyngrok import ngrok"
      ],
      "execution_count": 45,
      "outputs": []
    },
    {
      "cell_type": "code",
      "metadata": {
        "colab": {
          "base_uri": "https://localhost:8080/",
          "height": 35
        },
        "id": "QIgfJzTRJlFQ",
        "outputId": "3a10fc71-3c32-4690-8bf8-120b0c36f5fe"
      },
      "source": [
        "# Iniciando um tunel do Streamlit na porta 8501\n",
        "public_url = ngrok.connect(port='8501')\n",
        "public_url"
      ],
      "execution_count": 46,
      "outputs": [
        {
          "output_type": "execute_result",
          "data": {
            "application/vnd.google.colaboratory.intrinsic+json": {
              "type": "string"
            },
            "text/plain": [
              "'http://12a32992ad06.ngrok.io'"
            ]
          },
          "metadata": {
            "tags": []
          },
          "execution_count": 46
        }
      ]
    }
  ]
}